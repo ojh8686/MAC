{
 "cells": [
  {
   "cell_type": "code",
   "execution_count": 6,
   "id": "59e798de-b60b-463c-8a33-0c339214b420",
   "metadata": {},
   "outputs": [
    {
     "data": {
      "text/plain": [
       "array([[ 2., 10., 19.],\n",
       "       [16.,  3.,  7.]])"
      ]
     },
     "execution_count": 6,
     "metadata": {},
     "output_type": "execute_result"
    }
   ],
   "source": [
    "#배열은 행열의 크기(방)을 미리 정해줘야 됨\n",
    "import random\n",
    "import numpy as np\n",
    "a=np.zeros((2,3))\n",
    "\n",
    "for row in range(2):\n",
    "    for col in range(3):\n",
    "        a[row][col] = random.randint(0,20)\n",
    "a"
   ]
  },
  {
   "cell_type": "code",
   "execution_count": 2,
   "id": "c37eb8b4-e533-4b89-8254-c62b5d83a4c4",
   "metadata": {},
   "outputs": [
    {
     "data": {
      "text/plain": [
       "array([[1., 1., 1.],\n",
       "       [1., 1., 1.],\n",
       "       [1., 1., 1.]])"
      ]
     },
     "execution_count": 2,
     "metadata": {},
     "output_type": "execute_result"
    }
   ],
   "source": [
    "np.ones((3,3))"
   ]
  },
  {
   "cell_type": "code",
   "execution_count": 6,
   "id": "92596cda-8e0a-4630-9fbe-c15745cb6662",
   "metadata": {},
   "outputs": [
    {
     "name": "stdout",
     "output_type": "stream",
     "text": [
      "0,1,2,3,4,"
     ]
    },
    {
     "data": {
      "text/plain": [
       "[0, 1, 2, 3, 4]"
      ]
     },
     "execution_count": 6,
     "metadata": {},
     "output_type": "execute_result"
    }
   ],
   "source": [
    "rg=range(5) #range object로 리턴\n",
    "for _ in rg:\n",
    "    print(_, end=\",\")\n",
    "    \n",
    "list(rg)   "
   ]
  },
  {
   "cell_type": "code",
   "execution_count": 7,
   "id": "29d8ac9c-51d5-4d8e-a694-03d734bec1cb",
   "metadata": {},
   "outputs": [
    {
     "data": {
      "text/plain": [
       "array([0, 1, 2, 3, 4])"
      ]
     },
     "execution_count": 7,
     "metadata": {},
     "output_type": "execute_result"
    }
   ],
   "source": [
    "np.arange(5) #배열의 범위(ndarray의 원소 범위)"
   ]
  },
  {
   "cell_type": "code",
   "execution_count": 8,
   "id": "d5d51f6d-605e-48d6-b4ec-d5e6742518be",
   "metadata": {},
   "outputs": [
    {
     "data": {
      "text/plain": [
       "array([3, 4, 5])"
      ]
     },
     "execution_count": 8,
     "metadata": {},
     "output_type": "execute_result"
    }
   ],
   "source": [
    "np.arange(3,6)"
   ]
  },
  {
   "cell_type": "code",
   "execution_count": 10,
   "id": "1f8566ac-7b7e-49e7-98bc-910b779b929e",
   "metadata": {},
   "outputs": [
    {
     "data": {
      "text/plain": [
       "numpy.ndarray"
      ]
     },
     "execution_count": 10,
     "metadata": {},
     "output_type": "execute_result"
    }
   ],
   "source": [
    "a=np.arange(3,10,2) #3에서 10까지 2씩 뛰어넘기\n",
    "type(a)"
   ]
  },
  {
   "cell_type": "code",
   "execution_count": 11,
   "id": "cc55aa4c-85e4-41c9-aa0b-cd270bff81e7",
   "metadata": {},
   "outputs": [
    {
     "data": {
      "text/plain": [
       "array([1. , 1.8, 2.6, 3.4, 4.2, 5. , 5.8, 6.6, 7.4, 8.2, 9. , 9.8])"
      ]
     },
     "execution_count": 11,
     "metadata": {},
     "output_type": "execute_result"
    }
   ],
   "source": [
    "np.arange(1,10,0.8)"
   ]
  },
  {
   "cell_type": "code",
   "execution_count": 14,
   "id": "e03cad38-90a7-45bf-9ae7-273486a1f988",
   "metadata": {},
   "outputs": [],
   "source": [
    "a=np.arange(0,12)"
   ]
  },
  {
   "cell_type": "code",
   "execution_count": 15,
   "id": "00f6e315-5889-422a-9b5f-a31478748081",
   "metadata": {},
   "outputs": [
    {
     "data": {
      "text/plain": [
       "(12,)"
      ]
     },
     "execution_count": 15,
     "metadata": {},
     "output_type": "execute_result"
    }
   ],
   "source": [
    "a.shape #행,열이 없으면 원소의 개수만 나옴"
   ]
  },
  {
   "cell_type": "code",
   "execution_count": 20,
   "id": "5e444443-6285-49e5-b819-56d6f7d41292",
   "metadata": {},
   "outputs": [
    {
     "data": {
      "text/plain": [
       "array([[ 0,  1,  2,  3],\n",
       "       [ 4,  5,  6,  7],\n",
       "       [ 8,  9, 10, 11]])"
      ]
     },
     "execution_count": 20,
     "metadata": {},
     "output_type": "execute_result"
    }
   ],
   "source": [
    "b=a.reshape(3,4) #배열의 모양을 바꿈(모양을 다시 만들겠다)\n",
    "#BUT 새롭게 만들어지는 것 원본은 바뀌지 않음\n",
    "b#새로운 배열"
   ]
  },
  {
   "cell_type": "code",
   "execution_count": 21,
   "id": "788b1d77-f338-45b8-aa55-be2205d65d5c",
   "metadata": {},
   "outputs": [
    {
     "data": {
      "text/plain": [
       "(3, 4)"
      ]
     },
     "execution_count": 21,
     "metadata": {},
     "output_type": "execute_result"
    }
   ],
   "source": [
    "b.shape"
   ]
  },
  {
   "cell_type": "code",
   "execution_count": 18,
   "id": "3c738359-ee5f-40bd-be6f-5a5b4aee396f",
   "metadata": {},
   "outputs": [
    {
     "data": {
      "text/plain": [
       "(12,)"
      ]
     },
     "execution_count": 18,
     "metadata": {},
     "output_type": "execute_result"
    }
   ],
   "source": [
    "a.shape #원본이 바뀌지 않음"
   ]
  },
  {
   "cell_type": "code",
   "execution_count": 28,
   "id": "9d347a1d-8002-4364-b657-6546ffc9e6b2",
   "metadata": {},
   "outputs": [
    {
     "data": {
      "text/plain": [
       "array([[ 0,  1,  2,  3,  4,  5],\n",
       "       [ 6,  7,  8,  9, 10, 11]])"
      ]
     },
     "execution_count": 28,
     "metadata": {},
     "output_type": "execute_result"
    }
   ],
   "source": [
    "c=a.reshape(2,-1)#행이 정해지면 한 행에 들어가야 할 갯수는 이미 정해져 있음\n",
    "#만약 계산하지 않는 다 하면 -1로 뒤에 열을 표현\n",
    "c"
   ]
  },
  {
   "cell_type": "code",
   "execution_count": 29,
   "id": "995450bd-8bca-4777-8d86-3147db5b2686",
   "metadata": {},
   "outputs": [
    {
     "data": {
      "text/plain": [
       "array([ 0.        ,  0.20408163,  0.40816327,  0.6122449 ,  0.81632653,\n",
       "        1.02040816,  1.2244898 ,  1.42857143,  1.63265306,  1.83673469,\n",
       "        2.04081633,  2.24489796,  2.44897959,  2.65306122,  2.85714286,\n",
       "        3.06122449,  3.26530612,  3.46938776,  3.67346939,  3.87755102,\n",
       "        4.08163265,  4.28571429,  4.48979592,  4.69387755,  4.89795918,\n",
       "        5.10204082,  5.30612245,  5.51020408,  5.71428571,  5.91836735,\n",
       "        6.12244898,  6.32653061,  6.53061224,  6.73469388,  6.93877551,\n",
       "        7.14285714,  7.34693878,  7.55102041,  7.75510204,  7.95918367,\n",
       "        8.16326531,  8.36734694,  8.57142857,  8.7755102 ,  8.97959184,\n",
       "        9.18367347,  9.3877551 ,  9.59183673,  9.79591837, 10.        ])"
      ]
     },
     "execution_count": 29,
     "metadata": {},
     "output_type": "execute_result"
    }
   ],
   "source": [
    "#0-9 구간을 7개 수를 일정한 간격으로 추출, 선형으로  linearly spaced values\n",
    "\n",
    "np.linspace(0,10)"
   ]
  },
  {
   "cell_type": "code",
   "execution_count": 31,
   "id": "39a145ed-445f-4000-91c2-03110a3a169b",
   "metadata": {},
   "outputs": [
    {
     "data": {
      "text/plain": [
       "array([0., 2., 4., 6., 8.])"
      ]
     },
     "execution_count": 31,
     "metadata": {},
     "output_type": "execute_result"
    }
   ],
   "source": [
    "np.linspace(0,10,5, endpoint=False)#0-10까지 일정한 간격으로 5개 가져오기\n",
    "#endpoint false이면 마지막 수를 포함하지 않음  true라면 마지막 수 포함\n",
    "#range와는 좀 다름"
   ]
  },
  {
   "cell_type": "code",
   "execution_count": 33,
   "id": "3f31a9d3-f760-40e4-af67-491bce652be5",
   "metadata": {},
   "outputs": [
    {
     "data": {
      "text/plain": [
       "array([[0.58254853, 0.32146459, 0.68217119],\n",
       "       [0.94092024, 0.75278203, 0.246505  ],\n",
       "       [0.97768592, 0.7290258 , 0.47757522]])"
      ]
     },
     "execution_count": 33,
     "metadata": {},
     "output_type": "execute_result"
    }
   ],
   "source": [
    "np.random.random((3,3))"
   ]
  },
  {
   "cell_type": "code",
   "execution_count": 34,
   "id": "a984758d-5634-413a-b350-e0f6a2f31877",
   "metadata": {},
   "outputs": [
    {
     "data": {
      "text/plain": [
       "array([[0.2103166 , 0.5345295 , 0.92860901, 0.55130298],\n",
       "       [0.44456042, 0.76174034, 0.20129276, 0.13236466],\n",
       "       [0.1444045 , 0.98881798, 0.56371997, 0.55147285],\n",
       "       [0.48426021, 0.12305945, 0.73975579, 0.88684083]])"
      ]
     },
     "execution_count": 34,
     "metadata": {},
     "output_type": "execute_result"
    }
   ],
   "source": [
    "a= np.random.random(16).reshape((4,4))\n",
    "a"
   ]
  },
  {
   "cell_type": "code",
   "execution_count": 35,
   "id": "509468b5-a236-42b7-9d7a-1ff063d8c16d",
   "metadata": {},
   "outputs": [
    {
     "data": {
      "text/plain": [
       "<memory at 0x0000015975E98A00>"
      ]
     },
     "execution_count": 35,
     "metadata": {},
     "output_type": "execute_result"
    }
   ],
   "source": [
    "a.data"
   ]
  },
  {
   "cell_type": "code",
   "execution_count": 41,
   "id": "02e52da0-b9c7-4e6d-a4b7-6be8d7713b29",
   "metadata": {},
   "outputs": [
    {
     "data": {
      "text/plain": [
       "<memory at 0x0000015975E98AD0>"
      ]
     },
     "execution_count": 41,
     "metadata": {},
     "output_type": "execute_result"
    }
   ],
   "source": [
    "b=a.reshape(-1,8)#행수는 컴퓨터가 계산하고 열은16개\n",
    "b.data"
   ]
  },
  {
   "cell_type": "code",
   "execution_count": 42,
   "id": "6b972ba5-249f-4950-994e-1bde32059e3c",
   "metadata": {},
   "outputs": [
    {
     "data": {
      "text/plain": [
       "array([[0.42063321, 1.069059  , 1.85721801, 1.10260595],\n",
       "       [0.88912085, 1.52348069, 0.40258552, 0.26472933],\n",
       "       [0.28880901, 1.97763596, 1.12743994, 1.10294571],\n",
       "       [0.96852042, 0.24611889, 1.47951159, 1.77368166]])"
      ]
     },
     "execution_count": 42,
     "metadata": {},
     "output_type": "execute_result"
    }
   ],
   "source": [
    "a*2"
   ]
  },
  {
   "cell_type": "code",
   "execution_count": 43,
   "id": "185ca24f-9952-4f50-bb8c-f9fc1bc4166c",
   "metadata": {},
   "outputs": [
    {
     "data": {
      "text/plain": [
       "array([[1.2103166 , 1.5345295 , 1.92860901, 1.55130298],\n",
       "       [1.44456042, 1.76174034, 1.20129276, 1.13236466],\n",
       "       [1.1444045 , 1.98881798, 1.56371997, 1.55147285],\n",
       "       [1.48426021, 1.12305945, 1.73975579, 1.88684083]])"
      ]
     },
     "execution_count": 43,
     "metadata": {},
     "output_type": "execute_result"
    }
   ],
   "source": [
    "a+[1,1,1,1]"
   ]
  },
  {
   "cell_type": "code",
   "execution_count": 44,
   "id": "2603b412-8f50-4742-b43f-c07817e09c32",
   "metadata": {},
   "outputs": [
    {
     "data": {
      "text/plain": [
       "array([[0.45860288, 0.73111524, 0.96364361, 0.7424978 ],\n",
       "       [0.66675365, 0.87277737, 0.44865662, 0.36381955],\n",
       "       [0.38000592, 0.99439327, 0.75081287, 0.74261218],\n",
       "       [0.69588807, 0.3507983 , 0.86009057, 0.94172227]])"
      ]
     },
     "execution_count": 44,
     "metadata": {},
     "output_type": "execute_result"
    }
   ],
   "source": [
    "np.sqrt(a) #universal function"
   ]
  },
  {
   "cell_type": "code",
   "execution_count": 45,
   "id": "8ddeb156-b530-4fd7-84cb-4effcca9f6e4",
   "metadata": {},
   "outputs": [
    {
     "data": {
      "text/plain": [
       "array([0, 1, 2, 3, 4])"
      ]
     },
     "execution_count": 45,
     "metadata": {},
     "output_type": "execute_result"
    }
   ],
   "source": [
    "a=np.arange(5)\n",
    "a"
   ]
  },
  {
   "cell_type": "code",
   "execution_count": 47,
   "id": "fa764e2c-22a1-4e1b-9e90-d5b23edc2291",
   "metadata": {},
   "outputs": [
    {
     "data": {
      "text/plain": [
       "10"
      ]
     },
     "execution_count": 47,
     "metadata": {},
     "output_type": "execute_result"
    }
   ],
   "source": [
    "a.sum()"
   ]
  },
  {
   "cell_type": "code",
   "execution_count": 49,
   "id": "748fd49d-e8da-440d-afc3-cfc76dbfba1d",
   "metadata": {},
   "outputs": [
    {
     "data": {
      "text/plain": [
       "(4, 0, 2.0, 1.4142135623730951)"
      ]
     },
     "execution_count": 49,
     "metadata": {},
     "output_type": "execute_result"
    }
   ],
   "source": [
    "a.max(),a.min(),a.mean(),a.std() #mean은 평균, std는 표준편차"
   ]
  },
  {
   "cell_type": "code",
   "execution_count": 50,
   "id": "798568e7-ad70-4f9a-beb2-924787afda4e",
   "metadata": {},
   "outputs": [],
   "source": [
    "#분산:각 원소와 평균의 차이의 제곱, 이들을 모두 합산, 그값을 원소의 갯수로 나눔"
   ]
  },
  {
   "cell_type": "code",
   "execution_count": 52,
   "id": "cd5fa3ae-1dbd-4c44-9871-e7c2644a2ea9",
   "metadata": {},
   "outputs": [
    {
     "data": {
      "text/plain": [
       "(1.4142135623730951, 1.4142135623730951)"
      ]
     },
     "execution_count": 52,
     "metadata": {},
     "output_type": "execute_result"
    }
   ],
   "source": [
    "np.sqrt(np.mean((a-a.mean())**2)), np.std(a)"
   ]
  },
  {
   "cell_type": "code",
   "execution_count": 53,
   "id": "acdc735a-8a12-461d-bda0-326ad1a1398b",
   "metadata": {},
   "outputs": [
    {
     "data": {
      "text/plain": [
       "array([[ 1,  2,  3,  4],\n",
       "       [ 5,  6,  7,  8],\n",
       "       [ 9, 10, 11, 12],\n",
       "       [13, 14, 15, 16]])"
      ]
     },
     "execution_count": 53,
     "metadata": {},
     "output_type": "execute_result"
    }
   ],
   "source": [
    "a= np.arange(1,17).reshape(4,-1)\n",
    "a"
   ]
  },
  {
   "cell_type": "code",
   "execution_count": 54,
   "id": "4512cb5d-66f7-404e-94ee-010bd122deb1",
   "metadata": {},
   "outputs": [
    {
     "name": "stdout",
     "output_type": "stream",
     "text": [
      "1 2 3 4 5 6 7 8 9 10 11 12 13 14 15 16 "
     ]
    }
   ],
   "source": [
    "for e in a:\n",
    "    for i in e:\n",
    "        print(i, end=' ')\n",
    "        "
   ]
  },
  {
   "cell_type": "code",
   "execution_count": 56,
   "id": "9f476c2b-f7aa-464d-99d4-f91d678b41e1",
   "metadata": {},
   "outputs": [
    {
     "data": {
      "text/plain": [
       "(7, 7)"
      ]
     },
     "execution_count": 56,
     "metadata": {},
     "output_type": "execute_result"
    }
   ],
   "source": [
    "a[1][2], a[1,2] #각행,열의 값을 가져옴 "
   ]
  },
  {
   "cell_type": "code",
   "execution_count": 57,
   "id": "c2710f8f-1ff0-4c4f-8896-f40cc2e7c225",
   "metadata": {},
   "outputs": [
    {
     "data": {
      "text/plain": [
       "array([[ 5,  6,  7,  8],\n",
       "       [ 9, 10, 11, 12]])"
      ]
     },
     "execution_count": 57,
     "metadata": {},
     "output_type": "execute_result"
    }
   ],
   "source": [
    "a[[1,2]]#1행과 2행을 가져옴"
   ]
  },
  {
   "cell_type": "code",
   "execution_count": 58,
   "id": "338b79c1-419a-4c05-8f98-ededf56ceff1",
   "metadata": {},
   "outputs": [
    {
     "data": {
      "text/plain": [
       "14"
      ]
     },
     "execution_count": 58,
     "metadata": {},
     "output_type": "execute_result"
    }
   ],
   "source": [
    "a[3,1]"
   ]
  },
  {
   "cell_type": "code",
   "execution_count": 60,
   "id": "afce9189-00a8-448c-97b3-aeb6ddadd34b",
   "metadata": {},
   "outputs": [
    {
     "data": {
      "text/plain": [
       "array([[ 5,  6,  7,  8],\n",
       "       [13, 14, 15, 16]])"
      ]
     },
     "execution_count": 60,
     "metadata": {},
     "output_type": "execute_result"
    }
   ],
   "source": [
    "a[[1,3]]\n"
   ]
  },
  {
   "cell_type": "code",
   "execution_count": 66,
   "id": "8e2bee14-49e7-4ebe-b738-731809134751",
   "metadata": {},
   "outputs": [
    {
     "data": {
      "text/plain": [
       "array([[ True, False, False, False, False, False, False],\n",
       "       [False, False,  True,  True,  True,  True,  True]])"
      ]
     },
     "execution_count": 66,
     "metadata": {},
     "output_type": "execute_result"
    }
   ],
   "source": [
    "#fancy indexing :인덱서 안에 정수나 불리언 배열을 사용하여 배열의 값을 추출해내는 방법\n",
    "\n",
    "ba=np.array([True,False,False,False,False,False,False,False,False,True,True,True,True,True])\n",
    "ba= ba.reshape(2,-1)\n",
    "ba"
   ]
  },
  {
   "cell_type": "code",
   "execution_count": 71,
   "id": "19fdfedc-415c-47cc-bd28-013eff89ab6b",
   "metadata": {},
   "outputs": [
    {
     "ename": "IndexError",
     "evalue": "boolean index did not match indexed array along dimension 0; dimension is 4 but corresponding boolean dimension is 2",
     "output_type": "error",
     "traceback": [
      "\u001b[1;31m---------------------------------------------------------------------------\u001b[0m",
      "\u001b[1;31mIndexError\u001b[0m                                Traceback (most recent call last)",
      "Input \u001b[1;32mIn [71]\u001b[0m, in \u001b[0;36m<cell line: 1>\u001b[1;34m()\u001b[0m\n\u001b[1;32m----> 1\u001b[0m \u001b[43ma\u001b[49m\u001b[43m[\u001b[49m\u001b[43mba\u001b[49m\u001b[43m]\u001b[49m\n",
      "\u001b[1;31mIndexError\u001b[0m: boolean index did not match indexed array along dimension 0; dimension is 4 but corresponding boolean dimension is 2"
     ]
    }
   ],
   "source": [
    "a[ba]"
   ]
  },
  {
   "cell_type": "code",
   "execution_count": 72,
   "id": "cf080997-1386-49ce-83f7-bf3d5205297c",
   "metadata": {},
   "outputs": [
    {
     "data": {
      "text/plain": [
       "array([1])"
      ]
     },
     "execution_count": 72,
     "metadata": {},
     "output_type": "execute_result"
    }
   ],
   "source": [
    "a[a<2]"
   ]
  },
  {
   "cell_type": "code",
   "execution_count": 1,
   "id": "06385333-1405-4210-8d50-1bf8474bce1c",
   "metadata": {},
   "outputs": [
    {
     "data": {
      "text/plain": [
       "[1, 2, 3, 4, 5]"
      ]
     },
     "execution_count": 1,
     "metadata": {},
     "output_type": "execute_result"
    }
   ],
   "source": [
    "nums=[1,2,3,4,5]\n",
    "nums[0:5]"
   ]
  },
  {
   "cell_type": "code",
   "execution_count": 2,
   "id": "0b755d09-cb84-4e37-bf6f-6a6d6d1aad68",
   "metadata": {},
   "outputs": [
    {
     "data": {
      "text/plain": [
       "[1, 2, 3, 4, 5]"
      ]
     },
     "execution_count": 2,
     "metadata": {},
     "output_type": "execute_result"
    }
   ],
   "source": [
    "nums[0:]"
   ]
  },
  {
   "cell_type": "code",
   "execution_count": 3,
   "id": "ab8753b0-8169-4511-8429-428730974fb2",
   "metadata": {},
   "outputs": [
    {
     "data": {
      "text/plain": [
       "[1, 2, 3, 4, 5]"
      ]
     },
     "execution_count": 3,
     "metadata": {},
     "output_type": "execute_result"
    }
   ],
   "source": [
    "nums[:]"
   ]
  },
  {
   "cell_type": "code",
   "execution_count": 4,
   "id": "23d78d78-aeaa-458d-8b64-2ce70286e970",
   "metadata": {},
   "outputs": [
    {
     "data": {
      "text/plain": [
       "[1, 3, 5]"
      ]
     },
     "execution_count": 4,
     "metadata": {},
     "output_type": "execute_result"
    }
   ],
   "source": [
    "nums[::2]"
   ]
  },
  {
   "cell_type": "code",
   "execution_count": 5,
   "id": "5935db8b-46ee-4e6f-9c0f-f14876df2215",
   "metadata": {},
   "outputs": [
    {
     "data": {
      "text/plain": [
       "3"
      ]
     },
     "execution_count": 5,
     "metadata": {},
     "output_type": "execute_result"
    }
   ],
   "source": [
    "nums[2]"
   ]
  },
  {
   "cell_type": "code",
   "execution_count": 7,
   "id": "b1ee4a0b-c693-48bd-8c72-2a2cdf70fd86",
   "metadata": {},
   "outputs": [
    {
     "data": {
      "text/plain": [
       "array([10, 11, 12, 13, 14, 15])"
      ]
     },
     "execution_count": 7,
     "metadata": {},
     "output_type": "execute_result"
    }
   ],
   "source": [
    "a=np.arange(10,16)\n",
    "a"
   ]
  },
  {
   "cell_type": "code",
   "execution_count": 8,
   "id": "7d47951f-b8ca-43fc-a59a-c0eb23b3a9fd",
   "metadata": {},
   "outputs": [
    {
     "data": {
      "text/plain": [
       "array([11, 12, 13, 14])"
      ]
     },
     "execution_count": 8,
     "metadata": {},
     "output_type": "execute_result"
    }
   ],
   "source": [
    "a[1:5]"
   ]
  },
  {
   "cell_type": "code",
   "execution_count": 9,
   "id": "436b51d4-a701-420c-867d-ebdb9920f34e",
   "metadata": {},
   "outputs": [
    {
     "data": {
      "text/plain": [
       "array([11, 13])"
      ]
     },
     "execution_count": 9,
     "metadata": {},
     "output_type": "execute_result"
    }
   ],
   "source": [
    "a[1:5:2]"
   ]
  },
  {
   "cell_type": "code",
   "execution_count": 13,
   "id": "ea44bee3-11a4-4b93-b87a-44649bd1165c",
   "metadata": {},
   "outputs": [
    {
     "data": {
      "text/plain": [
       "<memory at 0x0000028513E3AF40>"
      ]
     },
     "execution_count": 13,
     "metadata": {},
     "output_type": "execute_result"
    }
   ],
   "source": [
    "a.data\n",
    "b=a[::]\n",
    "b.data"
   ]
  },
  {
   "cell_type": "code",
   "execution_count": 14,
   "id": "a9f04258-0eaa-4ade-b9ad-37a38550df27",
   "metadata": {},
   "outputs": [
    {
     "data": {
      "text/plain": [
       "[0, 1, 2, 3, 4]"
      ]
     },
     "execution_count": 14,
     "metadata": {},
     "output_type": "execute_result"
    }
   ],
   "source": [
    "nums=list(range(5))\n",
    "nums"
   ]
  },
  {
   "cell_type": "code",
   "execution_count": 18,
   "id": "8e63fd4e-8411-4d1f-a4cc-bbd5e78e693b",
   "metadata": {},
   "outputs": [
    {
     "data": {
      "text/plain": [
       "[0, 1, 2, 3, 4]"
      ]
     },
     "execution_count": 18,
     "metadata": {},
     "output_type": "execute_result"
    }
   ],
   "source": [
    "nums2=nums[:]\n",
    "nums2"
   ]
  },
  {
   "cell_type": "code",
   "execution_count": 19,
   "id": "e0099ba1-7a44-4285-8f76-95416fb1e290",
   "metadata": {},
   "outputs": [
    {
     "data": {
      "text/plain": [
       "[5, 1, 2, 3, 4]"
      ]
     },
     "execution_count": 19,
     "metadata": {},
     "output_type": "execute_result"
    }
   ],
   "source": [
    "nums2[0]=5\n",
    "nums2"
   ]
  },
  {
   "cell_type": "code",
   "execution_count": 20,
   "id": "15dd36e8-550d-426c-865f-bd1ad72652b2",
   "metadata": {},
   "outputs": [
    {
     "data": {
      "text/plain": [
       "[0, 1, 2, 3, 4]"
      ]
     },
     "execution_count": 20,
     "metadata": {},
     "output_type": "execute_result"
    }
   ],
   "source": [
    "nums"
   ]
  },
  {
   "cell_type": "code",
   "execution_count": 21,
   "id": "2b043f86-94ba-4807-a0a9-b37b82ff4e66",
   "metadata": {},
   "outputs": [
    {
     "data": {
      "text/plain": [
       "array([0, 1, 2, 3, 4])"
      ]
     },
     "execution_count": 21,
     "metadata": {},
     "output_type": "execute_result"
    }
   ],
   "source": [
    "a= np.arange(5)\n",
    "a"
   ]
  },
  {
   "cell_type": "code",
   "execution_count": 23,
   "id": "e56e47ec-6d50-40fa-8a8b-1c426259b69a",
   "metadata": {},
   "outputs": [
    {
     "data": {
      "text/plain": [
       "array([0, 1, 2, 3, 4])"
      ]
     },
     "execution_count": 23,
     "metadata": {},
     "output_type": "execute_result"
    }
   ],
   "source": [
    "b=a[:]\n",
    "b"
   ]
  },
  {
   "cell_type": "code",
   "execution_count": 24,
   "id": "a489eb93-9119-40f3-acc0-9ebb4bf9a8da",
   "metadata": {},
   "outputs": [
    {
     "data": {
      "text/plain": [
       "array([5, 1, 2, 3, 4])"
      ]
     },
     "execution_count": 24,
     "metadata": {},
     "output_type": "execute_result"
    }
   ],
   "source": [
    "b[0]=5#array에서는 다른걸 바꿔도 원본이 바뀜\n",
    "#리스트와는 다름\n",
    "b"
   ]
  },
  {
   "cell_type": "code",
   "execution_count": 25,
   "id": "1d69340f-3c24-4d0e-9417-dca9f68f106f",
   "metadata": {},
   "outputs": [
    {
     "data": {
      "text/plain": [
       "array([5, 1, 2, 3, 4])"
      ]
     },
     "execution_count": 25,
     "metadata": {},
     "output_type": "execute_result"
    }
   ],
   "source": [
    "a"
   ]
  },
  {
   "cell_type": "code",
   "execution_count": 26,
   "id": "acc50f0c-75de-40ab-8408-9f8e2ab96f80",
   "metadata": {},
   "outputs": [],
   "source": [
    "# 다차원 배열의 슬라이싱\n",
    "#소문자로 하면 일차원, 이차원 배열은 대문자"
   ]
  },
  {
   "cell_type": "code",
   "execution_count": 29,
   "id": "1e6f6f46-a900-479b-ae8a-7d03eec3a52e",
   "metadata": {},
   "outputs": [
    {
     "data": {
      "text/plain": [
       "array([[10, 11, 12],\n",
       "       [13, 14, 15],\n",
       "       [16, 17, 18]])"
      ]
     },
     "execution_count": 29,
     "metadata": {},
     "output_type": "execute_result"
    }
   ],
   "source": [
    "A=np.arange(10,19).reshape(3,-1)\n",
    "A"
   ]
  },
  {
   "cell_type": "code",
   "execution_count": 30,
   "id": "348bbb55-4f2e-47c5-9d1f-5fc38160c0ee",
   "metadata": {},
   "outputs": [
    {
     "data": {
      "text/plain": [
       "array([11, 12])"
      ]
     },
     "execution_count": 30,
     "metadata": {},
     "output_type": "execute_result"
    }
   ],
   "source": [
    "A[0,1:]#0번째 행 1번부터 다 그줄 다 가져 오기"
   ]
  },
  {
   "cell_type": "code",
   "execution_count": 31,
   "id": "4e19532b-fcdf-4741-ac62-77e3bc02ec00",
   "metadata": {},
   "outputs": [
    {
     "data": {
      "text/plain": [
       "array([[11, 12],\n",
       "       [14, 15]])"
      ]
     },
     "execution_count": 31,
     "metadata": {},
     "output_type": "execute_result"
    }
   ],
   "source": [
    "A[0:2,1:]"
   ]
  },
  {
   "cell_type": "code",
   "execution_count": 45,
   "id": "f72619a0-d236-4663-aca3-b0287b22c74d",
   "metadata": {},
   "outputs": [
    {
     "data": {
      "text/plain": [
       "array([10, 13, 16])"
      ]
     },
     "execution_count": 45,
     "metadata": {},
     "output_type": "execute_result"
    }
   ],
   "source": [
    "A[:,0]#각 행의 맨 앞열만 가져오는 슬라이싱"
   ]
  },
  {
   "cell_type": "code",
   "execution_count": 50,
   "id": "c3b9c076-e40c-4a25-a039-6258c57b9a2a",
   "metadata": {},
   "outputs": [
    {
     "data": {
      "text/plain": [
       "(array([11, 12]), array([17, 18]))"
      ]
     },
     "execution_count": 50,
     "metadata": {},
     "output_type": "execute_result"
    }
   ],
   "source": [
    "A[0,1:],A[2,1:]"
   ]
  },
  {
   "cell_type": "code",
   "execution_count": 51,
   "id": "44a600b7-c6b1-4a51-b1fb-6629cb81ad93",
   "metadata": {},
   "outputs": [
    {
     "data": {
      "text/plain": [
       "array([[11, 12],\n",
       "       [17, 18]])"
      ]
     },
     "execution_count": 51,
     "metadata": {},
     "output_type": "execute_result"
    }
   ],
   "source": [
    "A[::2,1:]"
   ]
  },
  {
   "cell_type": "code",
   "execution_count": 53,
   "id": "e86f54c4-4f91-4a8a-b733-dadfd3f7eb13",
   "metadata": {},
   "outputs": [
    {
     "data": {
      "text/plain": [
       "array([[11, 12],\n",
       "       [17, 18]])"
      ]
     },
     "execution_count": 53,
     "metadata": {},
     "output_type": "execute_result"
    }
   ],
   "source": [
    "A[[0,2],1:]"
   ]
  },
  {
   "cell_type": "code",
   "execution_count": 56,
   "id": "6e3bc9d5-2cc9-40c4-8143-2e5828587b95",
   "metadata": {},
   "outputs": [
    {
     "name": "stdout",
     "output_type": "stream",
     "text": [
      "10\n",
      "11\n",
      "12\n",
      "13\n",
      "14\n",
      "15\n",
      "16\n",
      "17\n",
      "18\n"
     ]
    }
   ],
   "source": [
    "for e in A:\n",
    "    for a in e:\n",
    "        print(a)"
   ]
  },
  {
   "cell_type": "code",
   "execution_count": 59,
   "id": "60a178a6-14db-4061-ae73-1b7b3dc1f7cd",
   "metadata": {},
   "outputs": [
    {
     "name": "stdout",
     "output_type": "stream",
     "text": [
      "10 11 12 13 14 15 16 17 18 "
     ]
    }
   ],
   "source": [
    "for n in A.flatten():\n",
    "    print(n, end=' ')"
   ]
  },
  {
   "cell_type": "code",
   "execution_count": 60,
   "id": "73640037-cd1a-448a-8de9-111e6eb807d9",
   "metadata": {},
   "outputs": [
    {
     "name": "stdout",
     "output_type": "stream",
     "text": [
      "10 11 12 13 14 15 16 17 18 "
     ]
    }
   ],
   "source": [
    "for n in A.ravel():\n",
    "    print(n, end=' ')"
   ]
  },
  {
   "cell_type": "code",
   "execution_count": 61,
   "id": "e65b7945-ec53-47cf-a839-7eef83e790e3",
   "metadata": {},
   "outputs": [
    {
     "data": {
      "text/plain": [
       "array([39, 42, 45])"
      ]
     },
     "execution_count": 61,
     "metadata": {},
     "output_type": "execute_result"
    }
   ],
   "source": [
    "np.apply_along_axis(np.sum, axis=0,arr=A)#세로 합계"
   ]
  },
  {
   "cell_type": "code",
   "execution_count": 71,
   "id": "a735a698-6c26-41a1-82ed-26852f7020dc",
   "metadata": {},
   "outputs": [
    {
     "name": "stdout",
     "output_type": "stream",
     "text": [
      "[[ 5. 16. 20.  6.]\n",
      " [15. 17. 19. 11.]\n",
      " [20.  7.  1. 13.]\n",
      " [13. 10. 12. 17.]]\n"
     ]
    },
    {
     "data": {
      "text/plain": [
       "array([20., 19., 20., 17.])"
      ]
     },
     "execution_count": 71,
     "metadata": {},
     "output_type": "execute_result"
    }
   ],
   "source": [
    "a=np.zeros((4,4))\n",
    "\n",
    "for row in range(4):\n",
    "    for col in range(4):\n",
    "        a[row][col] = random.randint(0,20)\n",
    "print(a)     \n",
    "\n",
    "np.apply_along_axis(np.max, axis=1,arr=a)#세로 합계        "
   ]
  },
  {
   "cell_type": "code",
   "execution_count": 73,
   "id": "aa3342c2-0ffe-4647-ac76-52ecf4de7c21",
   "metadata": {},
   "outputs": [
    {
     "data": {
      "text/plain": [
       "<function __main__.<lambda>(A)>"
      ]
     },
     "execution_count": 73,
     "metadata": {},
     "output_type": "execute_result"
    }
   ],
   "source": [
    "lambda v:v-1"
   ]
  },
  {
   "cell_type": "code",
   "execution_count": 74,
   "id": "cf3af58f-1326-45c1-82e6-f9381ac210b2",
   "metadata": {},
   "outputs": [
    {
     "data": {
      "text/plain": [
       "array([[ 9, 10, 11],\n",
       "       [12, 13, 14],\n",
       "       [15, 16, 17]])"
      ]
     },
     "execution_count": 74,
     "metadata": {},
     "output_type": "execute_result"
    }
   ],
   "source": [
    "g=lambda v:v-1\n",
    "\n",
    "g(A)"
   ]
  },
  {
   "cell_type": "code",
   "execution_count": 89,
   "id": "d9c338e0-0b89-4ac9-a3e3-a57df2a2fcb9",
   "metadata": {},
   "outputs": [
    {
     "data": {
      "text/plain": [
       "56"
      ]
     },
     "execution_count": 89,
     "metadata": {},
     "output_type": "execute_result"
    }
   ],
   "source": [
    " add=0\n",
    "for s in A.flatten():\n",
    "    if s%2==1:\n",
    "        add+=s\n",
    "add     \n",
    "      "
   ]
  },
  {
   "cell_type": "code",
   "execution_count": 110,
   "id": "57d0d392-4e10-4fb7-8795-935113745afc",
   "metadata": {},
   "outputs": [
    {
     "data": {
      "text/plain": [
       "array([[10, 11, 12],\n",
       "       [16, 17, 18]])"
      ]
     },
     "execution_count": 110,
     "metadata": {},
     "output_type": "execute_result"
    }
   ],
   "source": []
  },
  {
   "cell_type": "code",
   "execution_count": 131,
   "id": "a87f3186-e22b-429b-9a27-a07cd3117c38",
   "metadata": {},
   "outputs": [
    {
     "data": {
      "text/plain": [
       "56"
      ]
     },
     "execution_count": 131,
     "metadata": {},
     "output_type": "execute_result"
    }
   ],
   "source": [
    "S=A[A%2==1].sum()\n",
    "S\n"
   ]
  },
  {
   "cell_type": "code",
   "execution_count": 136,
   "id": "fb56714f-3748-4d09-af8b-7d7e56145433",
   "metadata": {},
   "outputs": [
    {
     "data": {
      "text/plain": [
       "<memory at 0x0000028515973450>"
      ]
     },
     "execution_count": 136,
     "metadata": {},
     "output_type": "execute_result"
    }
   ],
   "source": [
    "A.data"
   ]
  },
  {
   "cell_type": "code",
   "execution_count": 137,
   "id": "f880c78d-9ce0-4e93-bc3b-731fb5813e2c",
   "metadata": {},
   "outputs": [
    {
     "data": {
      "text/plain": [
       "<memory at 0x0000028515973520>"
      ]
     },
     "execution_count": 137,
     "metadata": {},
     "output_type": "execute_result"
    }
   ],
   "source": [
    "A1=A.reshape(1,-1)\n",
    "A1.data"
   ]
  },
  {
   "cell_type": "code",
   "execution_count": 139,
   "id": "c93fd890-c5ee-4b91-893f-e511b4cf2236",
   "metadata": {},
   "outputs": [
    {
     "data": {
      "text/plain": [
       "array([[10, 11, 12],\n",
       "       [13, 14, 15],\n",
       "       [16, 17, 18]])"
      ]
     },
     "execution_count": 139,
     "metadata": {},
     "output_type": "execute_result"
    }
   ],
   "source": [
    "A1.shape=(3,-1)\n",
    "A1"
   ]
  },
  {
   "cell_type": "code",
   "execution_count": 140,
   "id": "535c0b9f-e242-4268-bd33-e9f6e43d79f1",
   "metadata": {},
   "outputs": [
    {
     "data": {
      "text/plain": [
       "<memory at 0x00000285159735F0>"
      ]
     },
     "execution_count": 140,
     "metadata": {},
     "output_type": "execute_result"
    }
   ],
   "source": [
    "A1.data"
   ]
  },
  {
   "cell_type": "code",
   "execution_count": 141,
   "id": "9861b768-1be7-4eb2-9dc6-b4050bc3fce8",
   "metadata": {},
   "outputs": [
    {
     "data": {
      "text/plain": [
       "array([10, 11, 12, 13, 14, 15, 16, 17, 18])"
      ]
     },
     "execution_count": 141,
     "metadata": {},
     "output_type": "execute_result"
    }
   ],
   "source": [
    "A1.shape=(9) #다차원에서 일차원으로\n",
    "A1"
   ]
  },
  {
   "cell_type": "code",
   "execution_count": 142,
   "id": "3b49d1e1-ce94-4a48-8847-08db363d1611",
   "metadata": {},
   "outputs": [
    {
     "data": {
      "text/plain": [
       "array([[10, 11, 12],\n",
       "       [13, 14, 15],\n",
       "       [16, 17, 18]])"
      ]
     },
     "execution_count": 142,
     "metadata": {},
     "output_type": "execute_result"
    }
   ],
   "source": [
    "A1.shape=(3,-1)\n",
    "A1"
   ]
  },
  {
   "cell_type": "code",
   "execution_count": 144,
   "id": "685205ca-aee9-4799-95a9-fb14004b98d4",
   "metadata": {},
   "outputs": [
    {
     "data": {
      "text/plain": [
       "array([[10, 13, 16],\n",
       "       [11, 14, 17],\n",
       "       [12, 15, 18]])"
      ]
     },
     "execution_count": 144,
     "metadata": {},
     "output_type": "execute_result"
    }
   ],
   "source": [
    "A.transpose() #원채의 다차원 배열에서 각 행의 맨 첫열을 첫행, 그후 차례대로"
   ]
  },
  {
   "cell_type": "code",
   "execution_count": 145,
   "id": "b7d2fa4c-9036-4aa9-9b50-8d09979a97fc",
   "metadata": {},
   "outputs": [],
   "source": [
    "A=np.zeros((3,3))\n",
    "B=np.ones((3,3))"
   ]
  },
  {
   "cell_type": "code",
   "execution_count": 147,
   "id": "24692a36-79a6-49d4-8259-0e67b2e75b82",
   "metadata": {},
   "outputs": [
    {
     "data": {
      "text/plain": [
       "array([[0., 0., 0.],\n",
       "       [0., 0., 0.],\n",
       "       [0., 0., 0.],\n",
       "       [1., 1., 1.],\n",
       "       [1., 1., 1.],\n",
       "       [1., 1., 1.]])"
      ]
     },
     "execution_count": 147,
     "metadata": {},
     "output_type": "execute_result"
    }
   ],
   "source": [
    "np.vstack([A,B])#수직으로 쌓아라"
   ]
  },
  {
   "cell_type": "code",
   "execution_count": 148,
   "id": "f6a61838-02ff-437b-a03b-ec6cb6ef269b",
   "metadata": {},
   "outputs": [
    {
     "data": {
      "text/plain": [
       "array([[0., 0., 0., 1., 1., 1.],\n",
       "       [0., 0., 0., 1., 1., 1.],\n",
       "       [0., 0., 0., 1., 1., 1.]])"
      ]
     },
     "execution_count": 148,
     "metadata": {},
     "output_type": "execute_result"
    }
   ],
   "source": [
    "np.hstack([A,B])#좌우 합치기"
   ]
  },
  {
   "cell_type": "code",
   "execution_count": 151,
   "id": "f77316c6-34c4-42ca-ba1a-1b02f48e408a",
   "metadata": {},
   "outputs": [
    {
     "data": {
      "text/plain": [
       "array([[1, 4, 7],\n",
       "       [2, 5, 8],\n",
       "       [3, 6, 9]])"
      ]
     },
     "execution_count": 151,
     "metadata": {},
     "output_type": "execute_result"
    }
   ],
   "source": [
    "np.column_stack([[1,2,3],[4,5,6],[7,8,9]])#하나의 리스트를 하나의 컬럼으로(위에서 아래로)"
   ]
  },
  {
   "cell_type": "code",
   "execution_count": 152,
   "id": "b277a1e2-e969-49b7-973f-e2e20635d004",
   "metadata": {},
   "outputs": [
    {
     "data": {
      "text/plain": [
       "array([[1, 2, 3],\n",
       "       [4, 5, 6],\n",
       "       [7, 8, 9]])"
      ]
     },
     "execution_count": 152,
     "metadata": {},
     "output_type": "execute_result"
    }
   ],
   "source": [
    "np.row_stack([[1,2,3],[4,5,6],[7,8,9]])#하나의 리스트를 하나의 행으로"
   ]
  },
  {
   "cell_type": "code",
   "execution_count": 153,
   "id": "0ca4d70d-bda9-4f8a-9fe6-054dd8ae5b7e",
   "metadata": {},
   "outputs": [
    {
     "data": {
      "text/plain": [
       "array([[ 0,  1,  2,  3],\n",
       "       [ 4,  5,  6,  7],\n",
       "       [ 8,  9, 10, 11],\n",
       "       [12, 13, 14, 15]])"
      ]
     },
     "execution_count": 153,
     "metadata": {},
     "output_type": "execute_result"
    }
   ],
   "source": [
    "A=np.arange(16).reshape(4,-1)\n",
    "A"
   ]
  },
  {
   "cell_type": "code",
   "execution_count": 160,
   "id": "258ddbe6-f783-4bc4-b900-7bf7db82cba2",
   "metadata": {},
   "outputs": [
    {
     "data": {
      "text/plain": [
       "array([[ 2,  3],\n",
       "       [ 6,  7],\n",
       "       [10, 11],\n",
       "       [14, 15]])"
      ]
     },
     "execution_count": 160,
     "metadata": {},
     "output_type": "execute_result"
    }
   ],
   "source": [
    "A1,A2=np.hsplit(A,2)#좌우로 반\n",
    "A2"
   ]
  },
  {
   "cell_type": "code",
   "execution_count": 162,
   "id": "b5f49466-bf63-4674-84bf-f54e3bca96b5",
   "metadata": {},
   "outputs": [
    {
     "data": {
      "text/plain": [
       "array([[0, 1, 2, 3],\n",
       "       [4, 5, 6, 7]])"
      ]
     },
     "execution_count": 162,
     "metadata": {},
     "output_type": "execute_result"
    }
   ],
   "source": [
    "A1,A2=np.vsplit(A,2)#수직으로 반\n",
    "A1"
   ]
  },
  {
   "cell_type": "code",
   "execution_count": 176,
   "id": "03d16c49-6e3a-4ec6-80bf-16ae8cc8584f",
   "metadata": {},
   "outputs": [
    {
     "data": {
      "text/plain": [
       "[array([[0, 1, 2, 3]]),\n",
       " array([[4, 5, 6, 7]]),\n",
       " array([[ 8,  9, 10, 11]]),\n",
       " array([[12, 13, 14, 15]])]"
      ]
     },
     "execution_count": 176,
     "metadata": {},
     "output_type": "execute_result"
    }
   ],
   "source": [
    "np.split(A,[2,3], axis=0)#두번 짤라서 세개로 나누기"
   ]
  },
  {
   "cell_type": "markdown",
   "id": "4e19e2c9-8e75-494c-9c8f-2b220f4758a7",
   "metadata": {},
   "source": [
    "# Views, Copies"
   ]
  },
  {
   "cell_type": "code",
   "execution_count": 177,
   "id": "778f9660-5c90-4584-be09-03658e9e21e6",
   "metadata": {},
   "outputs": [
    {
     "data": {
      "text/plain": [
       "array([1, 2, 3, 4])"
      ]
     },
     "execution_count": 177,
     "metadata": {},
     "output_type": "execute_result"
    }
   ],
   "source": [
    "a=np.arange(1,5)\n",
    "a"
   ]
  },
  {
   "cell_type": "code",
   "execution_count": 178,
   "id": "543a4c1f-b124-459b-94ab-8cf4892de3eb",
   "metadata": {},
   "outputs": [],
   "source": [
    "#cpoy는 복사한 것이므로 아무리 복사한것을 바꿔도 원본은 바뀌지 않음(다른 것)\n",
    "#view는 객체의 주소는 같으나 참조변수만 다른것\n"
   ]
  },
  {
   "cell_type": "code",
   "execution_count": 180,
   "id": "526b4da0-aba0-429d-bd46-961ca21664a0",
   "metadata": {},
   "outputs": [
    {
     "data": {
      "text/plain": [
       "array([1, 2, 3, 4])"
      ]
     },
     "execution_count": 180,
     "metadata": {},
     "output_type": "execute_result"
    }
   ],
   "source": [
    "b=a#주소가 같다(데이터가 복사된것이 아님)\n",
    "b"
   ]
  },
  {
   "cell_type": "code",
   "execution_count": 182,
   "id": "c4e568a9-6ab0-441f-a685-6295674da0d0",
   "metadata": {},
   "outputs": [
    {
     "data": {
      "text/plain": [
       "array([1, 2])"
      ]
     },
     "execution_count": 182,
     "metadata": {},
     "output_type": "execute_result"
    }
   ],
   "source": [
    "c=a[0:2]#이것도 뷰\n",
    "c"
   ]
  },
  {
   "cell_type": "code",
   "execution_count": 183,
   "id": "3fbfa9e3-d83b-48af-803a-f8ba061bbfa7",
   "metadata": {},
   "outputs": [
    {
     "data": {
      "text/plain": [
       "array([5, 2])"
      ]
     },
     "execution_count": 183,
     "metadata": {},
     "output_type": "execute_result"
    }
   ],
   "source": [
    "a[0]=5\n",
    "c"
   ]
  },
  {
   "cell_type": "code",
   "execution_count": 184,
   "id": "a906fb43-0609-4e0c-8b63-041af0e774de",
   "metadata": {},
   "outputs": [
    {
     "data": {
      "text/plain": [
       "(array([5, 2, 3, 4]), array([5, 2]))"
      ]
     },
     "execution_count": 184,
     "metadata": {},
     "output_type": "execute_result"
    }
   ],
   "source": [
    "a,c"
   ]
  },
  {
   "cell_type": "code",
   "execution_count": 185,
   "id": "79af8598-bc43-4eb2-a3a8-539ee7f24257",
   "metadata": {},
   "outputs": [
    {
     "data": {
      "text/plain": [
       "array([5, 7, 3, 4])"
      ]
     },
     "execution_count": 185,
     "metadata": {},
     "output_type": "execute_result"
    }
   ],
   "source": [
    "c[1]=7\n",
    "a"
   ]
  },
  {
   "cell_type": "code",
   "execution_count": 186,
   "id": "84c75b37-0675-456d-aa91-d754c50c7618",
   "metadata": {},
   "outputs": [
    {
     "data": {
      "text/plain": [
       "array([1, 2, 3, 4])"
      ]
     },
     "execution_count": 186,
     "metadata": {},
     "output_type": "execute_result"
    }
   ],
   "source": [
    "a=np.arange(1,5)\n",
    "a"
   ]
  },
  {
   "cell_type": "code",
   "execution_count": 188,
   "id": "45d88b32-fb75-43f0-930a-1d82bf2d2297",
   "metadata": {},
   "outputs": [
    {
     "data": {
      "text/plain": [
       "array([1, 2, 3, 4])"
      ]
     },
     "execution_count": 188,
     "metadata": {},
     "output_type": "execute_result"
    }
   ],
   "source": [
    "b=a.copy()#그냥 복사(원본은 그대로 남아있다, 객체의 주소도 다름) \n",
    "b"
   ]
  },
  {
   "cell_type": "code",
   "execution_count": 190,
   "id": "2465b128-8783-451d-82cb-f1f0268f8d60",
   "metadata": {},
   "outputs": [
    {
     "data": {
      "text/plain": [
       "array([5, 2, 3, 4])"
      ]
     },
     "execution_count": 190,
     "metadata": {},
     "output_type": "execute_result"
    }
   ],
   "source": [
    "b[0]=5\n",
    "b"
   ]
  },
  {
   "cell_type": "code",
   "execution_count": 191,
   "id": "59fda62a-c814-4a81-a89e-9f7698e07fef",
   "metadata": {},
   "outputs": [
    {
     "data": {
      "text/plain": [
       "array([1, 2, 3, 4])"
      ]
     },
     "execution_count": 191,
     "metadata": {},
     "output_type": "execute_result"
    }
   ],
   "source": [
    "a"
   ]
  },
  {
   "cell_type": "code",
   "execution_count": 192,
   "id": "b7878b98-9400-473f-86f6-3f746170f3f8",
   "metadata": {},
   "outputs": [
    {
     "data": {
      "text/plain": [
       "array([2, 4, 6, 8])"
      ]
     },
     "execution_count": 192,
     "metadata": {},
     "output_type": "execute_result"
    }
   ],
   "source": [
    "a*2#broad casting"
   ]
  },
  {
   "cell_type": "code",
   "execution_count": 193,
   "id": "6739e27d-bd95-4d47-9b37-25c6e558d629",
   "metadata": {},
   "outputs": [
    {
     "data": {
      "text/plain": [
       "array([5, 2, 3, 4])"
      ]
     },
     "execution_count": 193,
     "metadata": {},
     "output_type": "execute_result"
    }
   ],
   "source": [
    "b"
   ]
  },
  {
   "cell_type": "code",
   "execution_count": 194,
   "id": "a08f415e-0909-4d28-83d7-5d1c5d4f0641",
   "metadata": {},
   "outputs": [
    {
     "data": {
      "text/plain": [
       "array([ 2,  2, 15, 24])"
      ]
     },
     "execution_count": 194,
     "metadata": {},
     "output_type": "execute_result"
    }
   ],
   "source": [
    "a*[2,1,5,6]"
   ]
  },
  {
   "cell_type": "code",
   "execution_count": 195,
   "id": "1c149efb-f535-4ef9-a1f6-ce159d96e21b",
   "metadata": {},
   "outputs": [
    {
     "name": "stdout",
     "output_type": "stream",
     "text": [
      "파일의 저장 성공\n"
     ]
    }
   ],
   "source": [
    "np.save('saved_ndarray',a)\n",
    "print('파일의 저장 성공')"
   ]
  },
  {
   "cell_type": "code",
   "execution_count": 198,
   "id": "968d8ea6-806e-4ea8-b9e0-be63319e8bd6",
   "metadata": {},
   "outputs": [
    {
     "data": {
      "text/plain": [
       "array([1, 2, 3, 4])"
      ]
     },
     "execution_count": 198,
     "metadata": {},
     "output_type": "execute_result"
    }
   ],
   "source": [
    "fa=np.load('saved_ndarray.npy')\n",
    "fa"
   ]
  },
  {
   "cell_type": "code",
   "execution_count": 200,
   "id": "a5ff1750-16a4-4212-a0c5-79d6dd085aa8",
   "metadata": {},
   "outputs": [
    {
     "data": {
      "text/plain": [
       "'\\nid,value1,value2,value3\\n1,123,1.4,23\\n2,110,0.5,18\\n3,164,2.1,19'"
      ]
     },
     "execution_count": 200,
     "metadata": {},
     "output_type": "execute_result"
    }
   ],
   "source": [
    "#csv(Comma Separated Values)\n",
    "'''\n",
    "id,value1,value2,value3\n",
    "1,123,1.4,23\n",
    "2,110,0.5,18\n",
    "3,164,2.1,19'''\n"
   ]
  },
  {
   "cell_type": "code",
   "execution_count": 202,
   "id": "b5218513-7b7b-4ae7-be9b-b58fd4903b47",
   "metadata": {},
   "outputs": [],
   "source": [
    "ta=np.genfromtxt('sample.csv',delimiter=',',names=True)"
   ]
  },
  {
   "cell_type": "code",
   "execution_count": 203,
   "id": "e683e575-36fd-41d7-a31b-d8593b302a0a",
   "metadata": {},
   "outputs": [
    {
     "data": {
      "text/plain": [
       "array([(1., 123., 1.4, 23.), (2., 110., 0.5, 18.), (3., 164., 2.1, 19.)],\n",
       "      dtype=[('id', '<f8'), ('value1', '<f8'), ('value2', '<f8'), ('value3', '<f8')])"
      ]
     },
     "execution_count": 203,
     "metadata": {},
     "output_type": "execute_result"
    }
   ],
   "source": [
    "ta"
   ]
  },
  {
   "cell_type": "code",
   "execution_count": 205,
   "id": "2c2e4130-981a-485b-85a0-dcc0537834d5",
   "metadata": {},
   "outputs": [
    {
     "data": {
      "text/plain": [
       "123.0"
      ]
     },
     "execution_count": 205,
     "metadata": {},
     "output_type": "execute_result"
    }
   ],
   "source": [
    "ta[0][1]"
   ]
  },
  {
   "cell_type": "code",
   "execution_count": 206,
   "id": "ed0df808-69e7-463a-a638-07d6fca91135",
   "metadata": {},
   "outputs": [
    {
     "data": {
      "text/plain": [
       "(3,)"
      ]
     },
     "execution_count": 206,
     "metadata": {},
     "output_type": "execute_result"
    }
   ],
   "source": [
    "ta.shape"
   ]
  },
  {
   "cell_type": "code",
   "execution_count": 207,
   "id": "34a4d076-bf12-4298-9d12-22eb4135da84",
   "metadata": {},
   "outputs": [
    {
     "data": {
      "text/plain": [
       "array([1., 2., 3.])"
      ]
     },
     "execution_count": 207,
     "metadata": {},
     "output_type": "execute_result"
    }
   ],
   "source": [
    "ta['id']#컬럽 id의 값을 전부 가져옴"
   ]
  },
  {
   "cell_type": "code",
   "execution_count": null,
   "id": "3be0f8bf-f7ff-4c6a-bb75-ea2bc13e768f",
   "metadata": {},
   "outputs": [],
   "source": []
  }
 ],
 "metadata": {
  "kernelspec": {
   "display_name": "Python 3 (ipykernel)",
   "language": "python",
   "name": "python3"
  },
  "language_info": {
   "codemirror_mode": {
    "name": "ipython",
    "version": 3
   },
   "file_extension": ".py",
   "mimetype": "text/x-python",
   "name": "python",
   "nbconvert_exporter": "python",
   "pygments_lexer": "ipython3",
   "version": "3.9.12"
  }
 },
 "nbformat": 4,
 "nbformat_minor": 5
}
