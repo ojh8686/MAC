{
 "cells": [
  {
   "cell_type": "markdown",
   "id": "d44b7063-208c-41c3-90cd-9f89db0cedf8",
   "metadata": {},
   "source": [
    "# 넘파이에서의 데이터 삭제"
   ]
  },
  {
   "cell_type": "code",
   "execution_count": 2,
   "id": "7e184558-1478-4310-b5a4-eabc1b727409",
   "metadata": {},
   "outputs": [
    {
     "data": {
      "text/plain": [
       "array([1, 2, 4, 5])"
      ]
     },
     "execution_count": 2,
     "metadata": {},
     "output_type": "execute_result"
    }
   ],
   "source": [
    "import numpy as np\n",
    "\n",
    "arr = np.array([1,2,3,4,5])\n",
    "arr=np.delete(arr,2)#두번째 자리\n",
    "arr"
   ]
  },
  {
   "cell_type": "code",
   "execution_count": null,
   "id": "bfc028f1-867e-4122-adc8-5d5f6e985662",
   "metadata": {},
   "outputs": [],
   "source": [
    "#넘파이 create에는 array, arange, zeros,ones, linspace....등이 있음"
   ]
  },
  {
   "cell_type": "code",
   "execution_count": null,
   "id": "ee654131-d5bd-48da-a439-876c0b23c524",
   "metadata": {},
   "outputs": [],
   "source": [
    "arr = np.array([\"alice\", \"bob\", \"charlie\", \"david\", \"eric\"])\n",
    "arr=np.delete(arr,[0,1,2])#다수개를 제거\n",
    "arr"
   ]
  },
  {
   "cell_type": "code",
   "execution_count": null,
   "id": "528a185d-cca8-4ad3-b17d-8fe3b56a0bf1",
   "metadata": {},
   "outputs": [],
   "source": [
    "arr =np.array([[1,2,3,4],[5,6,7,8],[9,10,11,12]])\n",
    "arr=np.delete(arr,1,axis=1)#각행의 첫번째 자리에 있는 값을 세로로 없애기(열을 삭제해라)\n",
    "arr"
   ]
  },
  {
   "cell_type": "code",
   "execution_count": null,
   "id": "991ba522-8a79-445e-94b1-3c80bcce71ba",
   "metadata": {},
   "outputs": [],
   "source": [
    "arr =np.array([[1,2,3,4],[5,6,7,8],[9,10,11,12]])\n",
    "arr=np.delete(arr,[0,3],axis=1)#다수개를 삭제 (열을 삭제)\n",
    "arr"
   ]
  },
  {
   "cell_type": "code",
   "execution_count": null,
   "id": "e438ff54-4cf8-4901-815c-3fedc67af593",
   "metadata": {},
   "outputs": [],
   "source": [
    "arr =np.array([[1,2,3,4],[5,6,7,8],[9,10,11,12]])\n",
    "print(arr.shape)\n",
    "arr=np.delete(arr,0,axis=0)#0번째 행을 없앤다\n",
    "arr"
   ]
  },
  {
   "cell_type": "code",
   "execution_count": null,
   "id": "5cadddcf-aad8-4784-935d-fdbbd4236bd7",
   "metadata": {},
   "outputs": [],
   "source": [
    "arr =np.array([[1,2,3,4],[5,6,7,8],[9,10,11,12]])\n",
    "arr=np.delete(arr,[0,2],axis=0)#다수개의 행을 삭제\n",
    "arr"
   ]
  },
  {
   "cell_type": "code",
   "execution_count": 44,
   "id": "87a9f2db-9a6e-4b6e-90b4-450d054445ba",
   "metadata": {},
   "outputs": [
    {
     "name": "stdout",
     "output_type": "stream",
     "text": [
      "(array([0, 1, 2, 3], dtype=int64),)\n"
     ]
    },
    {
     "data": {
      "text/plain": [
       "array([2, 3, 4])"
      ]
     },
     "execution_count": 44,
     "metadata": {},
     "output_type": "execute_result"
    }
   ],
   "source": [
    "arr= np.array([1,1,1,1,2,3,4,])\n",
    "arr=np.delete(arr, np.where(arr==1))#where이라는 조건을 줘서 그 조건에 맞는것을 삭제\n",
    "arr"
   ]
  },
  {
   "cell_type": "markdown",
   "id": "277337ed-ad5a-4d82-9368-92be892f4a6b",
   "metadata": {},
   "source": [
    "# 넘파이 crud"
   ]
  },
  {
   "cell_type": "code",
   "execution_count": 129,
   "id": "e0d26fc7-f31f-4cf6-84c6-2446d6132c52",
   "metadata": {},
   "outputs": [],
   "source": [
    "import numpy as np"
   ]
  },
  {
   "cell_type": "code",
   "execution_count": 136,
   "id": "9680b161-1d08-4746-a9d1-74f082eb39f9",
   "metadata": {},
   "outputs": [],
   "source": [
    "scorearr=np.zeros([5,3])\n",
    "numarr=np.array([10,11,12,13,14])\n",
    "namearr=np.array([\"aaa\",\"bbb\",\"ccc\",\"ddd\",\"eee\"])\n",
    "infoarr=np.column_stack((numarr,namearr))\n",
    "pro=np.hstack((infoarr,scorearr))\n",
    "\n",
    "class School:\n",
    "    \n",
    "    \n",
    "    \n",
    "    def emp_list():\n",
    "        print(\"--번호--이름---국어--영어---수학\")\n",
    "        print(pro)\n",
    "        np.load('score.npy')\n",
    "    def emp_add():\n",
    "        num=int(input('입력할 번호를 입력하세요'))\n",
    "        a=np.where(numarr==num)\n",
    "        stid=a[0][0]\n",
    "        print(stid)\n",
    "        score=input('점수를 입력하세여')\n",
    "        korea,eng,math=score.split()\n",
    "        pro[stid,2:5]=korea,eng,math\n",
    "        np.save('score',pro)\n",
    "            \n",
    "    def emp_update():\n",
    "        num=int(input('수정할 번호를 입력하세요'))\n",
    "        a=np.where(numarr==num)\n",
    "        stid=a[0][0]\n",
    "        print(stid)\n",
    "        score=input('새로점수를 입력하세여')\n",
    "        korea,eng,math=score.split()\n",
    "        pro[stid,2:5]=korea,eng,math\n",
    "        np.save('score',pro)\n",
    "        \n",
    "       \n",
    "        \n",
    "    def emp_delete():\n",
    "        num=int(input('찾을 번호를 입력하세요'))\n",
    "        a= np.where(numarr==11)\n",
    "        stid=a[0][0]\n",
    "        print(stid)\n",
    "        pro=np.delete(pro,stid,axis=0)\n",
    "        \n",
    "        \n",
    "        \n",
    "        \n",
    "    def emp_find():\n",
    "        num=int(input('찾을 번호를 입력하세요'))\n",
    "        a=np.where(numarr==num)\n",
    "        stid=a[0][0]\n",
    "        print(stid)\n",
    "        print(pro[stid,0:5])\n",
    "       "
   ]
  },
  {
   "cell_type": "code",
   "execution_count": 137,
   "id": "461547fb-57b0-48ee-bb8b-6eac50d7f982",
   "metadata": {},
   "outputs": [],
   "source": [
    "mem_dic=[]\n",
    "m_dic={'s':'LIST', 'f':'FIND', 'a':'ADD', 'u':'UPDATE', 'd':'DELETE', 'x':\n",
    "       'EXIT'}\n",
    "\n",
    "\n",
    "def menu():\n",
    "    print(\"-----------------------------------------------\")\n",
    "    m=input('목록(s), 검색(f), 추가(a), 수정(u), 삭제(d), 종료(x):')\n",
    "    return m_dic.get(m)"
   ]
  },
  {
   "cell_type": "code",
   "execution_count": 138,
   "id": "63f225fb-61f9-4566-bd68-e3545e3d1edb",
   "metadata": {},
   "outputs": [
    {
     "name": "stdout",
     "output_type": "stream",
     "text": [
      "-----------------------------------------------\n"
     ]
    },
    {
     "name": "stdin",
     "output_type": "stream",
     "text": [
      "목록(s), 검색(f), 추가(a), 수정(u), 삭제(d), 종료(x): a\n",
      "입력할 번호를 입력하세요 11\n"
     ]
    },
    {
     "name": "stdout",
     "output_type": "stream",
     "text": [
      "1\n"
     ]
    },
    {
     "name": "stdin",
     "output_type": "stream",
     "text": [
      "점수를 입력하세여 ]11 22 33\n"
     ]
    },
    {
     "name": "stdout",
     "output_type": "stream",
     "text": [
      "-----------------------------------------------\n"
     ]
    },
    {
     "name": "stdin",
     "output_type": "stream",
     "text": [
      "목록(s), 검색(f), 추가(a), 수정(u), 삭제(d), 종료(x): s\n"
     ]
    },
    {
     "name": "stdout",
     "output_type": "stream",
     "text": [
      "--번호--이름---국어--영어---수학\n",
      "-----------------------------------------------\n"
     ]
    },
    {
     "name": "stdin",
     "output_type": "stream",
     "text": [
      "목록(s), 검색(f), 추가(a), 수정(u), 삭제(d), 종료(x): x\n"
     ]
    },
    {
     "name": "stdout",
     "output_type": "stream",
     "text": [
      "프로그램 종료\n"
     ]
    }
   ],
   "source": [
    "go = True\n",
    "while go:\n",
    "    m=menu()\n",
    "    if m=='ADD':\n",
    "        School.emp_add()\n",
    "    elif m=='LIST':\n",
    "        School.emp_list()\n",
    "    elif m=='UPDATE':\n",
    "        School.emp_update()\n",
    "    elif m=='DELETE':\n",
    "        num=int(input('찾을 번호를 입력하세요'))\n",
    "        a= np.where(numarr==11)\n",
    "        stid=a[0][0]\n",
    "        print(stid)\n",
    "        pro=np.delete(pro,stid,axis=0)\n",
    "        print(pro)\n",
    "    elif m=='FIND':\n",
    "        School.emp_find()\n",
    "    elif m=='EXIT':\n",
    "        break\n",
    "    else:\n",
    "        print('오류')\n",
    "        \n",
    "print('프로그램 종료')  "
   ]
  },
  {
   "cell_type": "code",
   "execution_count": null,
   "id": "2a5d0373-6a7c-4318-9a4f-d16820601b0a",
   "metadata": {},
   "outputs": [],
   "source": []
  }
 ],
 "metadata": {
  "kernelspec": {
   "display_name": "Python 3 (ipykernel)",
   "language": "python",
   "name": "python3"
  },
  "language_info": {
   "codemirror_mode": {
    "name": "ipython",
    "version": 3
   },
   "file_extension": ".py",
   "mimetype": "text/x-python",
   "name": "python",
   "nbconvert_exporter": "python",
   "pygments_lexer": "ipython3",
   "version": "3.9.12"
  }
 },
 "nbformat": 4,
 "nbformat_minor": 5
}
