{
 "cells": [
  {
   "cell_type": "code",
   "execution_count": 1,
   "id": "f586f167-bad9-4173-9601-b6aff9f8f841",
   "metadata": {},
   "outputs": [],
   "source": [
    "import pandas as pd\n",
    "import numpy as np"
   ]
  },
  {
   "cell_type": "code",
   "execution_count": 3,
   "id": "d5a83f3d-f495-49d3-a756-abcc2dc29ee1",
   "metadata": {},
   "outputs": [
    {
     "data": {
      "text/plain": [
       "0    12\n",
       "1    -4\n",
       "2     7\n",
       "3     9\n",
       "dtype: int64"
      ]
     },
     "execution_count": 3,
     "metadata": {},
     "output_type": "execute_result"
    }
   ],
   "source": [
    "s=pd.Series([12,-4,7,9])#1차원 자료구조\n",
    "s"
   ]
  },
  {
   "cell_type": "code",
   "execution_count": 6,
   "id": "57881b13-8aaa-406b-bec0-29b9e20bb81d",
   "metadata": {},
   "outputs": [
    {
     "data": {
      "text/plain": [
       "a    12\n",
       "c    -4\n",
       "b     7\n",
       "d     9\n",
       "dtype: int64"
      ]
     },
     "execution_count": 6,
     "metadata": {},
     "output_type": "execute_result"
    }
   ],
   "source": [
    "s=pd.Series([12,-4,7,9],index={'a','b','c','d'})\n",
    "s"
   ]
  },
  {
   "cell_type": "code",
   "execution_count": 7,
   "id": "ac6eb3e8-db44-4880-8bc9-23ecd4cb4949",
   "metadata": {},
   "outputs": [
    {
     "data": {
      "text/plain": [
       "Index(['a', 'c', 'b', 'd'], dtype='object')"
      ]
     },
     "execution_count": 7,
     "metadata": {},
     "output_type": "execute_result"
    }
   ],
   "source": [
    "s.index"
   ]
  },
  {
   "cell_type": "code",
   "execution_count": 10,
   "id": "99d40c3f-248f-46fe-9f4d-2ee87de83b34",
   "metadata": {},
   "outputs": [
    {
     "name": "stdout",
     "output_type": "stream",
     "text": [
      "[12 -4  7  9]\n"
     ]
    },
    {
     "data": {
      "text/plain": [
       "numpy.ndarray"
      ]
     },
     "execution_count": 10,
     "metadata": {},
     "output_type": "execute_result"
    }
   ],
   "source": [
    "print(s.values)\n",
    "type(s.values)"
   ]
  },
  {
   "cell_type": "code",
   "execution_count": 13,
   "id": "1c068f4c-8c1b-486c-a12c-8cd37047d0b9",
   "metadata": {},
   "outputs": [
    {
     "data": {
      "text/plain": [
       "-4"
      ]
     },
     "execution_count": 13,
     "metadata": {},
     "output_type": "execute_result"
    }
   ],
   "source": [
    "tmp = s.values[s<0]#조건을 걸어 0보다 작은 value를 가져옴\n",
    "tmp[0]#값만 갸져오고 싶다면 0번째를 줘야함"
   ]
  },
  {
   "cell_type": "code",
   "execution_count": 14,
   "id": "f4f8c5f9-a882-4f05-8405-c9b4b375286f",
   "metadata": {},
   "outputs": [
    {
     "data": {
      "text/plain": [
       "a    False\n",
       "c     True\n",
       "b    False\n",
       "d    False\n",
       "dtype: bool"
      ]
     },
     "execution_count": 14,
     "metadata": {},
     "output_type": "execute_result"
    }
   ],
   "source": [
    "s<0#boolean값으로 나옴 인덱스의 값을 불리언으로!"
   ]
  },
  {
   "cell_type": "code",
   "execution_count": 19,
   "id": "8b2aefd1-608a-4a00-b7e6-64194b16493a",
   "metadata": {},
   "outputs": [
    {
     "name": "stdout",
     "output_type": "stream",
     "text": [
      "12\n",
      "----------\n",
      "a    12\n",
      "c    -4\n",
      "dtype: int64\n",
      "----------\n",
      "a    12\n",
      "b     7\n",
      "d     9\n",
      "dtype: int64\n"
     ]
    }
   ],
   "source": [
    "print(s[0])\n",
    "print('----------')\n",
    "print(s[[0,1]])\n",
    "print('----------')\n",
    "print(s[s>0])"
   ]
  },
  {
   "cell_type": "code",
   "execution_count": 24,
   "id": "7d72505f-84c8-472c-bbaa-656c9c6f1b48",
   "metadata": {},
   "outputs": [
    {
     "data": {
      "text/plain": [
       "a   -4\n",
       "c   -4\n",
       "b    7\n",
       "d    9\n",
       "dtype: int64"
      ]
     },
     "execution_count": 24,
     "metadata": {},
     "output_type": "execute_result"
    }
   ],
   "source": [
    "s[[0,1]]= -4 #s의 0번째와 1의 valeu에 -4를 넣자\n",
    "s"
   ]
  },
  {
   "cell_type": "code",
   "execution_count": 26,
   "id": "26647dd5-307e-4896-b049-c15f59db6252",
   "metadata": {},
   "outputs": [
    {
     "data": {
      "text/plain": [
       "a    12\n",
       "c    -4\n",
       "b     7\n",
       "d     9\n",
       "dtype: int64"
      ]
     },
     "execution_count": 26,
     "metadata": {},
     "output_type": "execute_result"
    }
   ],
   "source": [
    "s['a']=12#다시 a인덱스의 value에 12를 넣어라\n",
    "s"
   ]
  },
  {
   "cell_type": "code",
   "execution_count": 27,
   "id": "2d5f4b01-9642-4dbd-8401-0f6f2aa19915",
   "metadata": {},
   "outputs": [
    {
     "data": {
      "text/plain": [
       "a    12\n",
       "b     7\n",
       "d     9\n",
       "dtype: int64"
      ]
     },
     "execution_count": 27,
     "metadata": {},
     "output_type": "execute_result"
    }
   ],
   "source": [
    "s[s>0]"
   ]
  },
  {
   "cell_type": "code",
   "execution_count": 29,
   "id": "02dd1f1c-d18a-471e-abb9-0fed2ca55c0c",
   "metadata": {},
   "outputs": [
    {
     "data": {
      "text/plain": [
       "a    12\n",
       "c    -4\n",
       "b     7\n",
       "d     9\n",
       "dtype: int64"
      ]
     },
     "execution_count": 29,
     "metadata": {},
     "output_type": "execute_result"
    }
   ],
   "source": [
    "s"
   ]
  },
  {
   "cell_type": "code",
   "execution_count": 33,
   "id": "95eb618e-a996-4420-8625-cf0e5544de26",
   "metadata": {},
   "outputs": [],
   "source": [
    "s2 = pd.Series(s)\n",
    "nums=[12,-4,7,9]"
   ]
  },
  {
   "cell_type": "code",
   "execution_count": 35,
   "id": "d95f2dd8-9187-46a6-8166-84a7f74b1136",
   "metadata": {},
   "outputs": [
    {
     "data": {
      "text/plain": [
       "(a    100\n",
       " c     -4\n",
       " b      7\n",
       " d      9\n",
       " dtype: int64,\n",
       " a    100\n",
       " c     -4\n",
       " b      7\n",
       " d      9\n",
       " dtype: int64,\n",
       " [12, -4, 7, 9])"
      ]
     },
     "execution_count": 35,
     "metadata": {},
     "output_type": "execute_result"
    }
   ],
   "source": [
    "s2[0]=100\n",
    "s,s2,nums\n",
    "#즉 s2는 s를 가지고 만들었기에 view, 값이 바뀌면 원본인 s도 바뀜"
   ]
  },
  {
   "cell_type": "code",
   "execution_count": 36,
   "id": "face9a57-251b-4ad0-9d54-aae35a36fd5a",
   "metadata": {},
   "outputs": [],
   "source": [
    "# indexer (loc[],ilco[])\n",
    "# loc[]:lables,boolean\n",
    "#iloc[]: position integer, boolean"
   ]
  },
  {
   "cell_type": "code",
   "execution_count": 37,
   "id": "09922173-c8cb-404e-a1bf-d0a441bb1822",
   "metadata": {},
   "outputs": [
    {
     "data": {
      "text/plain": [
       "a    100\n",
       "c     -4\n",
       "b      7\n",
       "d      9\n",
       "dtype: int64"
      ]
     },
     "execution_count": 37,
     "metadata": {},
     "output_type": "execute_result"
    }
   ],
   "source": [
    "s"
   ]
  },
  {
   "cell_type": "code",
   "execution_count": 46,
   "id": "fce0ebfc-5b3e-406e-a8e8-6206365313b8",
   "metadata": {},
   "outputs": [
    {
     "data": {
      "text/plain": [
       "a    100\n",
       "b      7\n",
       "d      9\n",
       "dtype: int64"
      ]
     },
     "execution_count": 46,
     "metadata": {},
     "output_type": "execute_result"
    }
   ],
   "source": [
    "s.loc['a']\n",
    "s.loc[['a','b']]\n",
    "s.loc[[True,False,False,True]]#ture인 값을 가져옴\n",
    "s.loc[s>5]"
   ]
  },
  {
   "cell_type": "code",
   "execution_count": 47,
   "id": "4c5c37b5-68f6-4576-a132-0b5c1c00e17f",
   "metadata": {},
   "outputs": [
    {
     "data": {
      "text/plain": [
       "-4"
      ]
     },
     "execution_count": 47,
     "metadata": {},
     "output_type": "execute_result"
    }
   ],
   "source": [
    "#iloc[]==인덱스\n",
    "s.iloc[1]#loc에서는 쓸수 없음\n"
   ]
  },
  {
   "cell_type": "code",
   "execution_count": 50,
   "id": "95d8019c-66ac-40d6-a538-a2d1b4d58326",
   "metadata": {},
   "outputs": [
    {
     "data": {
      "text/plain": [
       "array([0. , 0.5, 1. , 1.5, 2. ])"
      ]
     },
     "execution_count": 50,
     "metadata": {},
     "output_type": "execute_result"
    }
   ],
   "source": [
    "arr = np.arange(5)#배열을 만들어라\n",
    "arr/2#원소 한개한개를 2로 나눠라"
   ]
  },
  {
   "cell_type": "code",
   "execution_count": 52,
   "id": "6593f749-5a55-4d9e-82ba-8a7b4bed46e1",
   "metadata": {},
   "outputs": [
    {
     "data": {
      "text/plain": [
       "0    0\n",
       "1    2\n",
       "2    4\n",
       "3    6\n",
       "4    8\n",
       "dtype: int32"
      ]
     },
     "execution_count": 52,
     "metadata": {},
     "output_type": "execute_result"
    }
   ],
   "source": [
    "s=pd.Series(arr*2)\n",
    "s"
   ]
  },
  {
   "cell_type": "code",
   "execution_count": 53,
   "id": "b080e901-dca6-4593-8dfa-2ffb07ae4b93",
   "metadata": {},
   "outputs": [
    {
     "data": {
      "text/plain": [
       "0    0.0\n",
       "1    1.0\n",
       "2    2.0\n",
       "3    3.0\n",
       "4    4.0\n",
       "dtype: float64"
      ]
     },
     "execution_count": 53,
     "metadata": {},
     "output_type": "execute_result"
    }
   ],
   "source": [
    "s/2#시리즈임"
   ]
  },
  {
   "cell_type": "code",
   "execution_count": 56,
   "id": "d254fdd7-cb10-41ac-be2f-d5f39dd02263",
   "metadata": {},
   "outputs": [
    {
     "data": {
      "text/plain": [
       "0    6\n",
       "1    4\n",
       "2    6\n",
       "3    8\n",
       "dtype: int64"
      ]
     },
     "execution_count": 56,
     "metadata": {},
     "output_type": "execute_result"
    }
   ],
   "source": [
    "s1 = pd.Series([1,2,3,4])\n",
    "s2 = pd.Series([5,2,3,4])\n",
    "\n",
    "s1+s2"
   ]
  },
  {
   "cell_type": "code",
   "execution_count": 58,
   "id": "2bb8242a-ffe7-4597-bebd-d7e31a574808",
   "metadata": {},
   "outputs": [
    {
     "data": {
      "text/plain": [
       "a    1\n",
       "b    2\n",
       "c    3\n",
       "d    4\n",
       "dtype: int64"
      ]
     },
     "execution_count": 58,
     "metadata": {},
     "output_type": "execute_result"
    }
   ],
   "source": [
    "s1.index=['a','b','c','d']\n",
    "s1"
   ]
  },
  {
   "cell_type": "code",
   "execution_count": 59,
   "id": "328985e4-8211-443f-95c0-9e07b13e988e",
   "metadata": {},
   "outputs": [
    {
     "data": {
      "text/plain": [
       "c    5\n",
       "d    2\n",
       "e    3\n",
       "f    4\n",
       "dtype: int64"
      ]
     },
     "execution_count": 59,
     "metadata": {},
     "output_type": "execute_result"
    }
   ],
   "source": [
    "s2.index=['c','d','e','f']\n",
    "s2"
   ]
  },
  {
   "cell_type": "code",
   "execution_count": 61,
   "id": "1d834926-fc90-4bab-a462-c2b51de60130",
   "metadata": {},
   "outputs": [
    {
     "data": {
      "text/plain": [
       "a     NaN\n",
       "b     NaN\n",
       "c    15.0\n",
       "d     8.0\n",
       "e     NaN\n",
       "f     NaN\n",
       "dtype: float64"
      ]
     },
     "execution_count": 61,
     "metadata": {},
     "output_type": "execute_result"
    }
   ],
   "source": [
    "s1*s2#인덱스가 다르면 같은 인덱스 끼리만  연산됨\n",
    "#NaN==>숫자 아님"
   ]
  },
  {
   "cell_type": "code",
   "execution_count": 62,
   "id": "2b7a1cee-c700-4601-a1e7-22f0075e846d",
   "metadata": {},
   "outputs": [
    {
     "data": {
      "text/plain": [
       "a    1\n",
       "b    3\n",
       "c    5\n",
       "dtype: int64"
      ]
     },
     "execution_count": 62,
     "metadata": {},
     "output_type": "execute_result"
    }
   ],
   "source": [
    "s= pd.Series({'a':1,'b':2,'b':3,'c':4,'c':5})#딕션너리 에서 키는 중복되면 안됨\n",
    "s"
   ]
  },
  {
   "cell_type": "code",
   "execution_count": 68,
   "id": "c40e25f4-f090-4ecd-9395-052ff27c4764",
   "metadata": {},
   "outputs": [
    {
     "data": {
      "text/plain": [
       "a    1\n",
       "b    2\n",
       "b    2\n",
       "c    4\n",
       "c    5\n",
       "dtype: int64"
      ]
     },
     "execution_count": 68,
     "metadata": {},
     "output_type": "execute_result"
    }
   ],
   "source": [
    "s=pd.Series([1,2,2,4,5],index=['a','b','b','c','c'])#중복 가능\n",
    "s"
   ]
  },
  {
   "cell_type": "code",
   "execution_count": 69,
   "id": "230ced20-a41a-4152-b022-56c609d6ebe3",
   "metadata": {},
   "outputs": [
    {
     "data": {
      "text/plain": [
       "array([1, 2, 4, 5], dtype=int64)"
      ]
     },
     "execution_count": 69,
     "metadata": {},
     "output_type": "execute_result"
    }
   ],
   "source": [
    "s.unique()#중복없이 가져오기"
   ]
  },
  {
   "cell_type": "code",
   "execution_count": 72,
   "id": "55cbb4ca-fae1-4f88-8560-3f59a75dc000",
   "metadata": {},
   "outputs": [
    {
     "data": {
      "text/plain": [
       "2    2\n",
       "1    1\n",
       "4    1\n",
       "5    1\n",
       "dtype: int64"
      ]
     },
     "execution_count": 72,
     "metadata": {},
     "output_type": "execute_result"
    }
   ],
   "source": [
    "len(s)#배열의 개수\n",
    "s.value_counts()#통계 어떤값이 몇개가 있는가\n",
    "#2라는 값은 2개가 있다는 의미\n"
   ]
  },
  {
   "cell_type": "code",
   "execution_count": 79,
   "id": "08e6db93-5d23-4a82-8d63-bdf8c781652c",
   "metadata": {},
   "outputs": [
    {
     "data": {
      "text/plain": [
       "a    False\n",
       "b    False\n",
       "b    False\n",
       "c     True\n",
       "c    False\n",
       "dtype: bool"
      ]
     },
     "execution_count": 79,
     "metadata": {},
     "output_type": "execute_result"
    }
   ],
   "source": [
    "s.isin([4])#[]안의 수가 있는지 없는지"
   ]
  },
  {
   "cell_type": "markdown",
   "id": "b9f9538c-04cc-4f85-bc85-4578223db468",
   "metadata": {},
   "source": [
    "# pandas.Series를 이용한 curd\n"
   ]
  },
  {
   "cell_type": "code",
   "execution_count": 79,
   "id": "cc7fb001-d5e2-43c7-a76c-c6aa66998f4c",
   "metadata": {},
   "outputs": [
    {
     "name": "stdout",
     "output_type": "stream",
     "text": [
      "    0      1  2  3  4\n",
      "a  11  scott  0  0  0\n",
      "d  12   jone  0  0  0\n",
      "e  13   lora  0  0  0\n",
      "b  14  blake  0  0  0\n",
      "c  15   andy  0  0  0\n"
     ]
    },
    {
     "data": {
      "text/plain": [
       "array([11, 'scott', 0, 0, 0], dtype=object)"
      ]
     },
     "execution_count": 79,
     "metadata": {},
     "output_type": "execute_result"
    }
   ],
   "source": [
    "import pandas as pd\n",
    "\n",
    "subjects = pd.Series(['Java','Spring','Python'])\n",
    "names = pd.Series(['scott','jone','lora','blake','andy'],index={'a','b','c','d','e'})\n",
    "stid = pd.Series([11,12,13,14,15],index={'a','b','c','d','e'})\n",
    "java = pd.Series([0,0,0,0,0],index={'a','b','c','d','e'})\n",
    "spring = pd.Series([0,0,0,0,0],index={'a','b','c','d','e'})\n",
    "python = pd.Series([0,0,0,0,0],index={'a','b','c','d','e'})\n",
    "                \n",
    "\n",
    "sb=pd.concat((stid,names,java,spring,python),axis=1,)\n",
    "print(sb)\n",
    "\n",
    "num=stid.loc[stid==12]\n",
    "num.index[0]\n",
    "sb.loc['a'].values\n"
   ]
  },
  {
   "cell_type": "code",
   "execution_count": 104,
   "id": "6f62978e-b638-4cae-99af-3cd9acf1d97e",
   "metadata": {},
   "outputs": [],
   "source": [
    "m_dic= {'s':'LIST', 'a':'ADD','f':'FIND','u':'UPDATE','d':'DELETE', 'x':'EXIT'}\n",
    "def menu():\n",
    "    print('================================================================')\n",
    "    m = input('목록(s), 추가(a), 검색(번호로 검색, f), 수정(u), 삭제(d), 종료(x):')\n",
    "    return m_dic.get(m)"
   ]
  },
  {
   "cell_type": "code",
   "execution_count": 105,
   "id": "dd1e4019-c01c-46e0-a64e-04a82bf17192",
   "metadata": {},
   "outputs": [],
   "source": [
    "def add():\n",
    "   #* sNum, name = input('번호 이름').split()\n",
    "    # num = int(sNum.strip())\n",
    "    # idx = np.where(stid==num)\n",
    "    # if names[idx]!=name:\n",
    "    #     print('일치하는 번호와 이름이 없습니다')\n",
    "    # else:\n",
    "    #     s1,s2,s3 = input('S1, S2, S3 과목 성적:').split()\n",
    "    #     score1 = int(s1.strip())\n",
    "    #     score2 = int(s2.strip())\n",
    "    #     score3 = int(s3.strip())\n",
    "    #     scores[idx] = [score1,score2,score3]\n",
    "    #     np.save('scores', scores)\n",
    "    #     print('성적입력 성공')\n",
    "    num=int(input('입력할 번호를 입력하세요'))\n",
    "        a=stid.loc[stid==num]\n",
    "        n=num.index[0]\n",
    "        print(n)\n",
    "        score=input('점수를 입력하세여')\n",
    "        korea,eng,math=score.split()\n",
    "        pro[stid,2:5]=korea,eng,math\n",
    "        np.save('score',pro)"
   ]
  },
  {
   "cell_type": "code",
   "execution_count": 106,
   "id": "66ff340c-e095-4807-b71e-5c1467d96f9d",
   "metadata": {},
   "outputs": [],
   "source": [
    "def list():\n",
    "    print('================================================================')\n",
    "    # 컬럼명\n",
    "    print('번호\\t이름', end='')\n",
    "    for s in subjects:\n",
    "        print(f'\\t{s}', end='')\n",
    "    print()\n",
    "    print('--------------------------------------')\n",
    "    \n",
    "    # 데이터\n",
    "    global scores\n",
    "    try:\n",
    "        tmp = np.load('scores.npy')\n",
    "        scores = tmp\n",
    "    except IOError as ioe:\n",
    "        pass\n",
    "    for i in range(len(names)):\n",
    "        print('{}\\t{}\\t'.format(stid[i],names[i]), end='')\n",
    "        for s in scores[i]:\n",
    "            print('{}\\t'.format(s), end='')\n",
    "        print()"
   ]
  },
  {
   "cell_type": "code",
   "execution_count": 107,
   "id": "271e30bb-497f-4eef-ab5a-3ff327bda3ae",
   "metadata": {},
   "outputs": [],
   "source": [
    "def print_by_index(idx):\n",
    "    print('================================================================')\n",
    "    # 컬럼명\n",
    "    print('번호\\t이름', end='')\n",
    "    for s in subjects:\n",
    "        print(f'\\t{s}', end='')\n",
    "    print()\n",
    "    print('--------------------------------------')\n",
    "    \n",
    "    num = stid[idx]\n",
    "    name = names[idx]\n",
    "    print('{}\\t{}\\t'.format(num[0],name[0]), end='')\n",
    "    st_score = scores[idx][0]\n",
    "    for s in st_score:\n",
    "        print(f'{s}\\t', end='')\n",
    "    print()\n",
    "    \n",
    "    \n",
    "    "
   ]
  },
  {
   "cell_type": "code",
   "execution_count": 108,
   "id": "0d3f54f6-e580-41a2-b711-6fd87848738b",
   "metadata": {},
   "outputs": [],
   "source": [
    "def find():\n",
    "    sNum = input('학생 번호:')\n",
    "    num = int(sNum)\n",
    "    idx = np.where(stid==num)\n",
    "    print_by_index(idx)"
   ]
  },
  {
   "cell_type": "code",
   "execution_count": 109,
   "id": "a7d449ad-1b3c-454b-9580-0fd891fd7ca4",
   "metadata": {},
   "outputs": [],
   "source": [
    "def update():\n",
    "    tmp = input('학생번호:')\n",
    "    st_num = int(tmp.strip())\n",
    "    idx = np.where(stid==st_num)\n",
    "    \n",
    "    tmp = input('과목번호(0,1,2) 새 성적:')\n",
    "    subject_idx, new_score = tmp.strip().split()\n",
    "    scores[idx, int(subject_idx)] = int(new_score)\n",
    "    np.save('scores', scores)\n",
    "    print('--------> 성적 수정 성공')"
   ]
  },
  {
   "cell_type": "code",
   "execution_count": 110,
   "id": "4034c660-c9c9-4231-b626-564802688c09",
   "metadata": {},
   "outputs": [],
   "source": [
    "def delete():\n",
    "    global stid\n",
    "    global names\n",
    "    global scores\n",
    "    global subjects\n",
    "    \n",
    "    tmp = input('학생정보 삭제(0) 과목삭제(1):')\n",
    "    axis = int(tmp)\n",
    "    if axis==0:\n",
    "        tmp = input('삭제할 학생번호:')\n",
    "        st_num = int(tmp.strip())\n",
    "        idx = np.where(stid==st_num)\n",
    "        stid = np.delete(stid, idx)\n",
    "        names = np.delete(names, idx)\n",
    "        scores = np.delete(scores, idx, axis=0)\n",
    "        print('-------------> 학생정보 삭제 성공')\n",
    "    elif axis==1:\n",
    "        tmp = input('삭제할 과목번호(0,1,2):')\n",
    "        idx = int(tmp.strip())\n",
    "        subjects = np.delete(subjects, idx)\n",
    "        scores = np.delete(scores, idx, axis=1)\n",
    "        print('-------------> 과목 삭제 성공')"
   ]
  },
  {
   "cell_type": "code",
   "execution_count": 111,
   "id": "fa228cee-3523-45c4-9f56-bac4bc062f99",
   "metadata": {},
   "outputs": [
    {
     "name": "stdout",
     "output_type": "stream",
     "text": [
      "================================================================\n"
     ]
    },
    {
     "name": "stdin",
     "output_type": "stream",
     "text": [
      "목록(s), 추가(a), 검색(번호로 검색, f), 수정(u), 삭제(d), 종료(x): a\n",
      "번호 이름 11 soctt\n"
     ]
    },
    {
     "ename": "KeyError",
     "evalue": "'key of type tuple not found and not a MultiIndex'",
     "output_type": "error",
     "traceback": [
      "\u001b[1;31m---------------------------------------------------------------------------\u001b[0m",
      "\u001b[1;31mKeyError\u001b[0m                                  Traceback (most recent call last)",
      "Input \u001b[1;32mIn [111]\u001b[0m, in \u001b[0;36m<cell line: 2>\u001b[1;34m()\u001b[0m\n\u001b[0;32m      5\u001b[0m     \u001b[38;5;28mlist\u001b[39m()\n\u001b[0;32m      6\u001b[0m \u001b[38;5;28;01melif\u001b[39;00m m\u001b[38;5;241m==\u001b[39m\u001b[38;5;124m'\u001b[39m\u001b[38;5;124mADD\u001b[39m\u001b[38;5;124m'\u001b[39m:\n\u001b[1;32m----> 7\u001b[0m     \u001b[43madd\u001b[49m\u001b[43m(\u001b[49m\u001b[43m)\u001b[49m\n\u001b[0;32m      8\u001b[0m \u001b[38;5;28;01melif\u001b[39;00m m\u001b[38;5;241m==\u001b[39m\u001b[38;5;124m'\u001b[39m\u001b[38;5;124mFIND\u001b[39m\u001b[38;5;124m'\u001b[39m:\n\u001b[0;32m      9\u001b[0m     find()\n",
      "Input \u001b[1;32mIn [105]\u001b[0m, in \u001b[0;36madd\u001b[1;34m()\u001b[0m\n\u001b[0;32m      3\u001b[0m num \u001b[38;5;241m=\u001b[39m \u001b[38;5;28mint\u001b[39m(sNum\u001b[38;5;241m.\u001b[39mstrip())\n\u001b[0;32m      4\u001b[0m idx \u001b[38;5;241m=\u001b[39m np\u001b[38;5;241m.\u001b[39mwhere(stid\u001b[38;5;241m==\u001b[39mnum)\n\u001b[1;32m----> 5\u001b[0m \u001b[38;5;28;01mif\u001b[39;00m \u001b[43mnames\u001b[49m\u001b[43m[\u001b[49m\u001b[43midx\u001b[49m\u001b[43m]\u001b[49m\u001b[38;5;241m!=\u001b[39mname:\n\u001b[0;32m      6\u001b[0m     \u001b[38;5;28mprint\u001b[39m(\u001b[38;5;124m'\u001b[39m\u001b[38;5;124m일치하는 번호와 이름이 없습니다\u001b[39m\u001b[38;5;124m'\u001b[39m)\n\u001b[0;32m      7\u001b[0m \u001b[38;5;28;01melse\u001b[39;00m:\n",
      "File \u001b[1;32m~\\anaconda3\\lib\\site-packages\\pandas\\core\\series.py:984\u001b[0m, in \u001b[0;36mSeries.__getitem__\u001b[1;34m(self, key)\u001b[0m\n\u001b[0;32m    981\u001b[0m     key \u001b[38;5;241m=\u001b[39m np\u001b[38;5;241m.\u001b[39masarray(key, dtype\u001b[38;5;241m=\u001b[39m\u001b[38;5;28mbool\u001b[39m)\n\u001b[0;32m    982\u001b[0m     \u001b[38;5;28;01mreturn\u001b[39;00m \u001b[38;5;28mself\u001b[39m\u001b[38;5;241m.\u001b[39m_get_values(key)\n\u001b[1;32m--> 984\u001b[0m \u001b[38;5;28;01mreturn\u001b[39;00m \u001b[38;5;28;43mself\u001b[39;49m\u001b[38;5;241;43m.\u001b[39;49m\u001b[43m_get_with\u001b[49m\u001b[43m(\u001b[49m\u001b[43mkey\u001b[49m\u001b[43m)\u001b[49m\n",
      "File \u001b[1;32m~\\anaconda3\\lib\\site-packages\\pandas\\core\\series.py:999\u001b[0m, in \u001b[0;36mSeries._get_with\u001b[1;34m(self, key)\u001b[0m\n\u001b[0;32m    994\u001b[0m     \u001b[38;5;28;01mraise\u001b[39;00m \u001b[38;5;167;01mTypeError\u001b[39;00m(\n\u001b[0;32m    995\u001b[0m         \u001b[38;5;124m\"\u001b[39m\u001b[38;5;124mIndexing a Series with DataFrame is not \u001b[39m\u001b[38;5;124m\"\u001b[39m\n\u001b[0;32m    996\u001b[0m         \u001b[38;5;124m\"\u001b[39m\u001b[38;5;124msupported, use the appropriate DataFrame column\u001b[39m\u001b[38;5;124m\"\u001b[39m\n\u001b[0;32m    997\u001b[0m     )\n\u001b[0;32m    998\u001b[0m \u001b[38;5;28;01melif\u001b[39;00m \u001b[38;5;28misinstance\u001b[39m(key, \u001b[38;5;28mtuple\u001b[39m):\n\u001b[1;32m--> 999\u001b[0m     \u001b[38;5;28;01mreturn\u001b[39;00m \u001b[38;5;28;43mself\u001b[39;49m\u001b[38;5;241;43m.\u001b[39;49m\u001b[43m_get_values_tuple\u001b[49m\u001b[43m(\u001b[49m\u001b[43mkey\u001b[49m\u001b[43m)\u001b[49m\n\u001b[0;32m   1001\u001b[0m \u001b[38;5;28;01melif\u001b[39;00m \u001b[38;5;129;01mnot\u001b[39;00m is_list_like(key):\n\u001b[0;32m   1002\u001b[0m     \u001b[38;5;66;03m# e.g. scalars that aren't recognized by lib.is_scalar, GH#32684\u001b[39;00m\n\u001b[0;32m   1003\u001b[0m     \u001b[38;5;28;01mreturn\u001b[39;00m \u001b[38;5;28mself\u001b[39m\u001b[38;5;241m.\u001b[39mloc[key]\n",
      "File \u001b[1;32m~\\anaconda3\\lib\\site-packages\\pandas\\core\\series.py:1034\u001b[0m, in \u001b[0;36mSeries._get_values_tuple\u001b[1;34m(self, key)\u001b[0m\n\u001b[0;32m   1031\u001b[0m     \u001b[38;5;28;01mreturn\u001b[39;00m result\n\u001b[0;32m   1033\u001b[0m \u001b[38;5;28;01mif\u001b[39;00m \u001b[38;5;129;01mnot\u001b[39;00m \u001b[38;5;28misinstance\u001b[39m(\u001b[38;5;28mself\u001b[39m\u001b[38;5;241m.\u001b[39mindex, MultiIndex):\n\u001b[1;32m-> 1034\u001b[0m     \u001b[38;5;28;01mraise\u001b[39;00m \u001b[38;5;167;01mKeyError\u001b[39;00m(\u001b[38;5;124m\"\u001b[39m\u001b[38;5;124mkey of type tuple not found and not a MultiIndex\u001b[39m\u001b[38;5;124m\"\u001b[39m)\n\u001b[0;32m   1036\u001b[0m \u001b[38;5;66;03m# If key is contained, would have returned by now\u001b[39;00m\n\u001b[0;32m   1037\u001b[0m indexer, new_index \u001b[38;5;241m=\u001b[39m \u001b[38;5;28mself\u001b[39m\u001b[38;5;241m.\u001b[39mindex\u001b[38;5;241m.\u001b[39mget_loc_level(key)\n",
      "\u001b[1;31mKeyError\u001b[0m: 'key of type tuple not found and not a MultiIndex'"
     ]
    }
   ],
   "source": [
    "go = True\n",
    "while go:\n",
    "    m = menu()\n",
    "    if m == 'LIST':\n",
    "        list()\n",
    "    elif m=='ADD':\n",
    "        add()\n",
    "    elif m=='FIND':\n",
    "        find()\n",
    "    elif m=='UPDATE':\n",
    "        update()\n",
    "    elif m=='DELETE':\n",
    "        delete()\n",
    "    elif m=='EXIT':\n",
    "        go = False\n",
    "    else:\n",
    "        print('--------> 메뉴입력 오류')\n",
    "        \n",
    "print('--------> 프로그램 종료')"
   ]
  },
  {
   "cell_type": "code",
   "execution_count": null,
   "id": "3aa56d1d-6819-4146-ba97-98f658c39bdc",
   "metadata": {},
   "outputs": [],
   "source": []
  }
 ],
 "metadata": {
  "kernelspec": {
   "display_name": "Python 3 (ipykernel)",
   "language": "python",
   "name": "python3"
  },
  "language_info": {
   "codemirror_mode": {
    "name": "ipython",
    "version": 3
   },
   "file_extension": ".py",
   "mimetype": "text/x-python",
   "name": "python",
   "nbconvert_exporter": "python",
   "pygments_lexer": "ipython3",
   "version": "3.9.12"
  }
 },
 "nbformat": 4,
 "nbformat_minor": 5
}
