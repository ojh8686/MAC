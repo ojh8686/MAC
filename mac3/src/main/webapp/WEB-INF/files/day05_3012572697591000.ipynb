{
 "cells": [
  {
   "cell_type": "code",
   "execution_count": 92,
   "id": "2f3cb455-5bd4-4e00-b531-b9d607cc4665",
   "metadata": {},
   "outputs": [],
   "source": [
    "import pymysql"
   ]
  },
  {
   "cell_type": "code",
   "execution_count": 93,
   "id": "82a19f6f-93c0-4409-a45f-1bca1b328625",
   "metadata": {},
   "outputs": [],
   "source": [
    "conn = pymysql.connect(host='127.0.0.1',user='root',password='ezen',db='mydb',charset='utf8')"
   ]
  },
  {
   "cell_type": "code",
   "execution_count": null,
   "id": "6458d3dc-4680-4aff-a963-ddc0c5180b27",
   "metadata": {},
   "outputs": [],
   "source": [
    "curs=conn.cursor()#db가 들어갈 빈 공간 만들기"
   ]
  },
  {
   "cell_type": "code",
   "execution_count": null,
   "id": "44103e27-174b-4801-92c4-bad52cd8a1b7",
   "metadata": {},
   "outputs": [],
   "source": [
    "curs.execute('SELECT * FROM emp2')#두 행이 있다"
   ]
  },
  {
   "cell_type": "code",
   "execution_count": null,
   "id": "2305bacc-bdb5-4c94-8df7-7a91f252106e",
   "metadata": {},
   "outputs": [],
   "source": [
    "rows=curs.fetchall()#커서에 있는 행을 모두 가져와\n",
    "type(rows)#출력 자료형은 튜플"
   ]
  },
  {
   "cell_type": "code",
   "execution_count": null,
   "id": "99385ad1-4371-4fd5-907b-37602b30b2fa",
   "metadata": {},
   "outputs": [],
   "source": [
    "rows #한행이 하나의 튜플"
   ]
  },
  {
   "cell_type": "code",
   "execution_count": null,
   "id": "5fd2080e-5382-43b9-80e6-650dc9b20215",
   "metadata": {},
   "outputs": [],
   "source": [
    "for(empno,ename,hiredate,sal) in rows:# rows에 나온 값을 쪼개 하나씩 넣겠다\n",
    "    print('{}\\t{}\\t{}\\t{}'.format(empno,ename,hiredate,sal))\n",
    "    "
   ]
  },
  {
   "cell_type": "code",
   "execution_count": null,
   "id": "b57fbe3f-2fd1-4868-94e9-0664814c8280",
   "metadata": {},
   "outputs": [],
   "source": [
    "curs.close()"
   ]
  },
  {
   "cell_type": "code",
   "execution_count": null,
   "id": "dd7bb9bf-0cf3-4d1a-97cc-0a8681efd5f9",
   "metadata": {},
   "outputs": [],
   "source": [
    "conn.close()"
   ]
  },
  {
   "cell_type": "markdown",
   "id": "ccd6c6e9-2347-4367-8c5b-70e52b966da7",
   "metadata": {},
   "source": [
    "# 동적쿼리-이름을 키보드에 입력받아 쿼리 실행"
   ]
  },
  {
   "cell_type": "code",
   "execution_count": null,
   "id": "e41e5c85-f977-472d-b62f-36628be63119",
   "metadata": {},
   "outputs": [],
   "source": [
    "conn = pymysql.connect(host='127.0.0.1',user='root',password='ezen',db='mydb',charset='utf8')\n",
    "curs=conn.cursor()#db가 들어갈 빈 공간 만들기\n",
    "str=input('이름을 입력')\n",
    "st = str.split()\n",
    "name=st[0]\n",
    "curs.execute(sql,name)\n",
    "rows=curs.fetchall()#커서에 있는 행을 모두 가져와\n",
    "for(empno,ename,hiredate,sal) in rows:# rows에 나온 값을 쪼개 하나씩 넣겠다\n",
    "    print('{}\\t{}\\t{}\\t{}'.format(empno,ename,hiredate,sal))\n",
    "    \n",
    "curs.close()\n",
    "conn.close()"
   ]
  },
  {
   "cell_type": "code",
   "execution_count": null,
   "id": "7f07b064-08f6-4028-8b31-72ce67ff591e",
   "metadata": {},
   "outputs": [],
   "source": [
    "conn = pymysql.connect(host='127.0.0.1',user='root',password='ezen',db='mydb',charset='utf8')\n",
    "curs=conn.cursor()#db가 들어갈 빈 공간 만들기\n",
    "curs = conn.cursor(pymysql.cursors.DictCursor)\n",
    "sql=\"SELECT * FROM emp2\"\n",
    "curs.execute(sql)\n",
    "rows=curs.fetchall()\n",
    "for row in rows:# rows에 나온 값을 쪼개 하나씩 넣겠다\n",
    "    print('{}\\t{}\\t{}\\t{}'.format(row['empno'],row['ename'],row['hiredate'],row['sal']))\n",
    "curs.close()\n",
    "conn.close()"
   ]
  },
  {
   "cell_type": "code",
   "execution_count": null,
   "id": "05bad34c-6c3f-4280-b6b0-45982d2fd6cc",
   "metadata": {},
   "outputs": [],
   "source": [
    "with conn.cursor() as curs:\n",
    "    curs.execute(sql,('a','b'))\n",
    "#cusor을 닫지 않아도 자동으로 닫음"
   ]
  },
  {
   "cell_type": "code",
   "execution_count": null,
   "id": "6cebe043-e622-42f4-8b17-42044bc3defd",
   "metadata": {},
   "outputs": [],
   "source": [
    "#insert\n",
    "conn = pymysql.connect(host='127.0.0.1',user='root',password='ezen',db='mydb',charset='utf8')\n",
    "curs=conn.cursor()#db가 들어갈 빈 공간 만들기\n",
    "sql=\"insert into emp2 values(%s,%s,%s,%s)\" \n",
    "with conn.cursor() as curs:\n",
    "    n=curs.execute(sql,(13,'alice','2020-04-12',5000))\n",
    "    print('추가성공') if n>0 else print('추가실패')"
   ]
  },
  {
   "cell_type": "code",
   "execution_count": null,
   "id": "81b609ed-3997-4fb6-beed-7030688a75a6",
   "metadata": {},
   "outputs": [],
   "source": [
    "conn = pymysql.connect(host='127.0.0.1',user='root',password='ezen',db='mydb',charset='utf8')\n",
    "curs=conn.cursor()#db가 들어갈 빈 공간 만들기\n",
    "sql=\"insert into emp2 values(%s,%s,%s,%s)\" \n",
    "str=input('정보를 입력')\n",
    "st = str.split()\n",
    "num=int(st[0])\n",
    "name=st[1]\n",
    "hiredate=st[2]\n",
    "sal=int(st[3])\n",
    "curs.execute(sql,(num,name,hiredate,sal))\n",
    "conn.commit()\n",
    "print('추가성공') if n>0 else print('추가실패')\n",
    "\n",
    "curs.close()\n",
    "conn.close()\n",
    "\n",
    "show()"
   ]
  },
  {
   "cell_type": "code",
   "execution_count": null,
   "id": "40c16488-dcc3-4ddb-9e52-ce8b32250204",
   "metadata": {},
   "outputs": [],
   "source": [
    "conn = pymysql.connect(host='127.0.0.1',user='root',password='ezen',db='mydb',charset='utf8')\n",
    "curs=conn.cursor()#db가 들어갈 빈 공간 만들기\n",
    "sql=\"update  emp2 set  sal=%s where empno=%s\" \n",
    "str=input('정보를 입력')\n",
    "num,sal= str.split()\n",
    "\n",
    "with conn as conn:\n",
    "    with conn.cursor() as curs:\n",
    "        n=curs.execute(sql,(int(sal),int(num)))\n",
    "        print('변경성공') if n>0 else print('변경실패')\n",
    "    conn.commit()\n",
    "\n",
    "show()"
   ]
  },
  {
   "cell_type": "code",
   "execution_count": null,
   "id": "d7f83b60-c330-4646-ab05-10a85b9a953d",
   "metadata": {},
   "outputs": [],
   "source": [
    " def show():\n",
    "        conn = pymysql.connect(host='127.0.0.1',user='root',password='ezen',db='mydb',charset='utf8')\n",
    "        curs=conn.cursor()#db가 들어갈 빈 공간 만들기\n",
    "        sql=\"SELECT * FROM emp2\"\n",
    "        curs.execute(sql)\n",
    "        rows=curs.fetchall()\n",
    "        for(empno,ename,hiredate,sal) in rows:# rows에 나온 값을 쪼개 하나씩 넣겠다\n",
    "            print('{}\\t{}\\t{}\\t{}'.format(empno,ename,hiredate,sal))\n",
    "        curs.close()\n",
    "        conn.close()"
   ]
  },
  {
   "cell_type": "code",
   "execution_count": null,
   "id": "85157409-fdfd-4dfd-8a84-9e79c552d18a",
   "metadata": {},
   "outputs": [],
   "source": [
    "conn = pymysql.connect(host='127.0.0.1',user='root',password='ezen',db='mydb',charset='utf8')\n",
    "curs=conn.cursor()#db가 들어갈 빈 공간 만들기\n",
    "sql=\"delete  from emp2  where ename=%s\" \n",
    "str=input('이름를 입력')\n",
    "name=str\n",
    "curs.execute(sql,(name))\n",
    "conn.commit()\n",
    "print('삭제성공') if n>0 else print('삭제실패')\n",
    "\n",
    "show()\n",
    "    \n",
    "curs.close()\n",
    "conn.close() "
   ]
  },
  {
   "cell_type": "code",
   "execution_count": 80,
   "id": "b314343f-3672-49cc-ba17-b5cf68a11045",
   "metadata": {},
   "outputs": [],
   "source": [
    "import pandas as pd"
   ]
  },
  {
   "cell_type": "code",
   "execution_count": 81,
   "id": "2c303edf-b3e0-4790-8596-0d7d3db34051",
   "metadata": {},
   "outputs": [],
   "source": [
    "def emp_list1():\n",
    "    conn = pymysql.connect(host='127.0.0.1',user='root',password='ezen',db='mydb',charset='utf8')\n",
    "    curs=conn.cursor(pymysql.cursors.DictCursor)#db가 들어갈 빈 공간 만들기\n",
    "    curs.execute(\"select empno, ename,hiredate, sal from emp2\")\n",
    "    rows=curs.fetchall()\n",
    "    \n",
    "    df = pd.DataFrame(rows)\n",
    "    display(df)\n",
    "    \n",
    "    curs.close()\n",
    "    conn.close()"
   ]
  },
  {
   "cell_type": "code",
   "execution_count": 82,
   "id": "30b6c7a8-5519-4059-82f6-e821a283d47f",
   "metadata": {
    "scrolled": true,
    "tags": []
   },
   "outputs": [
    {
     "data": {
      "text/html": [
       "<div>\n",
       "<style scoped>\n",
       "    .dataframe tbody tr th:only-of-type {\n",
       "        vertical-align: middle;\n",
       "    }\n",
       "\n",
       "    .dataframe tbody tr th {\n",
       "        vertical-align: top;\n",
       "    }\n",
       "\n",
       "    .dataframe thead th {\n",
       "        text-align: right;\n",
       "    }\n",
       "</style>\n",
       "<table border=\"1\" class=\"dataframe\">\n",
       "  <thead>\n",
       "    <tr style=\"text-align: right;\">\n",
       "      <th></th>\n",
       "      <th>empno</th>\n",
       "      <th>ename</th>\n",
       "      <th>hiredate</th>\n",
       "      <th>sal</th>\n",
       "    </tr>\n",
       "  </thead>\n",
       "  <tbody>\n",
       "    <tr>\n",
       "      <th>0</th>\n",
       "      <td>11</td>\n",
       "      <td>blake</td>\n",
       "      <td>2022-03-12</td>\n",
       "      <td>2000</td>\n",
       "    </tr>\n",
       "    <tr>\n",
       "      <th>1</th>\n",
       "      <td>12</td>\n",
       "      <td>jone</td>\n",
       "      <td>2021-05-05</td>\n",
       "      <td>1000</td>\n",
       "    </tr>\n",
       "    <tr>\n",
       "      <th>2</th>\n",
       "      <td>13</td>\n",
       "      <td>alice</td>\n",
       "      <td>2022-10-16</td>\n",
       "      <td>4000</td>\n",
       "    </tr>\n",
       "  </tbody>\n",
       "</table>\n",
       "</div>"
      ],
      "text/plain": [
       "   empno  ename    hiredate   sal\n",
       "0     11  blake  2022-03-12  2000\n",
       "1     12   jone  2021-05-05  1000\n",
       "2     13  alice  2022-10-16  4000"
      ]
     },
     "metadata": {},
     "output_type": "display_data"
    }
   ],
   "source": [
    "emp_list1()"
   ]
  },
  {
   "cell_type": "code",
   "execution_count": 114,
   "id": "e80611c8-8c99-4d74-adbd-92293d13cf67",
   "metadata": {},
   "outputs": [],
   "source": [
    "class Emp:\n",
    "    \n",
    "    \n",
    "    \n",
    "    def emp_list():\n",
    "        conn = pymysql.connect(host='127.0.0.1',user='root',password='ezen',db='mydb',charset='utf8')\n",
    "        curs=conn.cursor()#db가 들어갈 빈 공간 만들기\n",
    "        sql=\"SELECT * FROM emp2\"\n",
    "        curs.execute(sql)\n",
    "        rows=curs.fetchall()\n",
    "        for(empno,ename,hiredate,sal) in rows:# rows에 나온 값을 쪼개 하나씩 넣겠다\n",
    "            print('{}\\t{}\\t{}\\t{}'.format(empno,ename,hiredate,sal))\n",
    "        curs.close()\n",
    "        conn.close()\n",
    "        \n",
    "    def emp_add():\n",
    "        conn = pymysql.connect(host='127.0.0.1',user='root',password='ezen',db='mydb',charset='utf8')\n",
    "        curs=conn.cursor()#db가 들어갈 빈 공간 만들기\n",
    "        sql=\"insert into emp2 values(%s,%s,%s,%s)\" \n",
    "        str=input('정보를 입력')\n",
    "        num,name,hiredate,sal = str.split()\n",
    "        with conn.cursor() as curs:\n",
    "            n=curs.execute(sql,(int(num),name,hiredate,int(sal)))\n",
    "            print('추가성공') if n>0 else print('추가실패')\n",
    "        conn.commit()\n",
    "            \n",
    "    def emp_update():\n",
    "        conn = pymysql.connect(host='127.0.0.1',user='root',password='ezen',db='mydb',charset='utf8')\n",
    "        curs=conn.cursor()#db가 들어갈 빈 공간 만들기\n",
    "        sql=\"update  emp2 set  sal=%s where ename=%s\" \n",
    "        str=input('정보를 입력')\n",
    "        name,sal= str.split()\n",
    "\n",
    "        with conn as conn:\n",
    "            with conn.cursor() as curs:\n",
    "                n=curs.execute(sql,(int(sal),name))\n",
    "                print('변경성공') if n>0 else print('변경실패')\n",
    "            conn.commit()   \n",
    "       \n",
    "        \n",
    "    def emp_delete():\n",
    "        conn = pymysql.connect(host='127.0.0.1',user='root',password='ezen',db='mydb',charset='utf8')\n",
    "        curs=conn.cursor()#db가 들어갈 빈 공간 만들기\n",
    "        sql=\"delete  from emp2  where ename=%s\" \n",
    "        str=input('이름를 입력')\n",
    "        name=str\n",
    "        curs.execute(sql,(name))\n",
    "        conn.commit()\n",
    "        print('삭제성공') if n>0 else print('삭제실패')\n",
    "        curs.close()\n",
    "        conn.close()\n",
    "        \n",
    "        \n",
    "    def emp_find():\n",
    "        conn = pymysql.connect(host='127.0.0.1',user='root',password='ezen',db='mydb',charset='utf8')\n",
    "        curs=conn.cursor()#db가 들어갈 빈 공간 만들기\n",
    "        sql=\"SELECT * FROM emp2 where ename=%s\"\n",
    "        str=input('이름을 입력')\n",
    "        st = str.split()\n",
    "        name=st[0]\n",
    "        curs.execute(sql,name)\n",
    "        rows=curs.fetchall()#커서에 있는 행을 모두 가져와\n",
    "        for(empno,ename,hiredate,sal) in rows:# rows에 나온 값을 쪼개 하나씩 넣겠다\n",
    "            print('{}\\t{}\\t{}\\t{}'.format(empno,ename,hiredate,sal))\n",
    "        curs.close()\n",
    "        conn.close()   \n",
    "           \n",
    "        \n",
    "    "
   ]
  },
  {
   "cell_type": "code",
   "execution_count": 115,
   "id": "699b67b3-6e88-4e25-a612-a50dc2b37857",
   "metadata": {},
   "outputs": [],
   "source": [
    "mem_dic=[]\n",
    "m_dic={'s':'LIST', 'f':'FIND', 'a':'ADD', 'u':'UPDATE', 'd':'DELETE', 'x':\n",
    "       'EXIT'}\n",
    "\n",
    "def menu():\n",
    "    print(\"-----------------------------------------------\")\n",
    "    m=input('목록(s), 검색(f), 추가(a), 수정(u), 삭제(d), 종료(x):')\n",
    "    return m_dic.get(m)"
   ]
  },
  {
   "cell_type": "code",
   "execution_count": 116,
   "id": "d04ac243-ac43-4519-86fb-af876fc6aa00",
   "metadata": {},
   "outputs": [
    {
     "name": "stdout",
     "output_type": "stream",
     "text": [
      "-----------------------------------------------\n"
     ]
    },
    {
     "name": "stdin",
     "output_type": "stream",
     "text": [
      "목록(s), 검색(f), 추가(a), 수정(u), 삭제(d), 종료(x): u\n",
      "정보를 입력 blake 1000\n"
     ]
    },
    {
     "name": "stdout",
     "output_type": "stream",
     "text": [
      "변경성공\n",
      "-----------------------------------------------\n"
     ]
    },
    {
     "name": "stdin",
     "output_type": "stream",
     "text": [
      "목록(s), 검색(f), 추가(a), 수정(u), 삭제(d), 종료(x): s\n"
     ]
    },
    {
     "name": "stdout",
     "output_type": "stream",
     "text": [
      "11\tblake\t2022-03-12\t1000\n",
      "12\tjone\t2021-05-05\t1000\n",
      "13\talice\t2022-10-16\t4000\n",
      "-----------------------------------------------\n"
     ]
    },
    {
     "name": "stdin",
     "output_type": "stream",
     "text": [
      "목록(s), 검색(f), 추가(a), 수정(u), 삭제(d), 종료(x): x\n"
     ]
    },
    {
     "name": "stdout",
     "output_type": "stream",
     "text": [
      "프로그램 종료\n"
     ]
    }
   ],
   "source": [
    "\n",
    "go = True\n",
    "while go:\n",
    "    m=menu()\n",
    "    if m=='ADD':\n",
    "        Emp.emp_add()\n",
    "    elif m=='LIST':\n",
    "        Emp.emp_list()\n",
    "    elif m=='UPDATE':\n",
    "        Emp.emp_update()\n",
    "    elif m=='DELETE':\n",
    "        Emp.emp_delete()\n",
    "    elif m=='FIND':\n",
    "        Emp.emp_find()\n",
    "    elif m=='EXIT':\n",
    "        break\n",
    "    else:\n",
    "        print('오류')\n",
    "        \n",
    "print('프로그램 종료')        "
   ]
  },
  {
   "cell_type": "markdown",
   "id": "1da0d843-0e08-44e1-a492-5faf8522f002",
   "metadata": {},
   "source": [
    "# Thread\n",
    "# 한 프로세스 안에서 동시에 실행되는 코드"
   ]
  },
  {
   "cell_type": "code",
   "execution_count": 136,
   "id": "d9cae84e-b544-4720-b14c-8b445b5dfcc0",
   "metadata": {},
   "outputs": [],
   "source": [
    "import time\n",
    "from datetime import datetime"
   ]
  },
  {
   "cell_type": "code",
   "execution_count": 139,
   "id": "302f4e25-bd2f-4f13-97a5-885ee08971d7",
   "metadata": {},
   "outputs": [],
   "source": [
    "def timer(name):\n",
    "    cnt=0\n",
    "    while True:\n",
    "        print(f'{name}-{datetime.now()}')\n",
    "        time.sleep(1)\n",
    "        cnt +=1\n",
    "        if cnt==10:\n",
    "            break"
   ]
  },
  {
   "cell_type": "code",
   "execution_count": 138,
   "id": "d747d968-ca03-4fed-8028-bcf8eab8d122",
   "metadata": {},
   "outputs": [],
   "source": [
    "def number(name):\n",
    "    num=0\n",
    "    while True:\n",
    "        num +=1\n",
    "        print(f'{name}-{num}')\n",
    "        time.sleep(1)\n",
    "        if num==10:\n",
    "            break"
   ]
  },
  {
   "cell_type": "code",
   "execution_count": 135,
   "id": "796b47a9-fef5-471c-86fa-f9149987429b",
   "metadata": {},
   "outputs": [
    {
     "name": "stdout",
     "output_type": "stream",
     "text": [
      "num=1\n",
      "num=2\n",
      "num=3\n",
      "num=4\n",
      "num=5\n",
      "num=6\n",
      "num=7\n",
      "num=8\n",
      "num=9\n",
      "num=10\n",
      "2022-08-18 17:44:08.949055\n",
      "2022-08-18 17:44:09.949834\n",
      "2022-08-18 17:44:10.949947\n",
      "2022-08-18 17:44:11.950102\n",
      "2022-08-18 17:44:12.950182\n",
      "2022-08-18 17:44:13.950861\n",
      "2022-08-18 17:44:14.951025\n",
      "2022-08-18 17:44:15.951187\n",
      "2022-08-18 17:44:16.951867\n",
      "2022-08-18 17:44:17.951878\n"
     ]
    }
   ],
   "source": [
    "#순차적으로 처리\n",
    "number()\n",
    "timer()\n"
   ]
  },
  {
   "cell_type": "code",
   "execution_count": 141,
   "id": "79db5ca0-1a51-4030-ab6f-f6e8ba900a91",
   "metadata": {},
   "outputs": [
    {
     "name": "stdout",
     "output_type": "stream",
     "text": [
      "num_t-1\n",
      "time_t-2022-08-18 17:54:33.754702\n",
      "num_t-2\n",
      "time_t-2022-08-18 17:54:34.757184\n",
      "num_t-3\n",
      "time_t-2022-08-18 17:54:35.757755\n",
      "num_t-4\n",
      "time_t-2022-08-18 17:54:36.758249\n",
      "num_t-5\n",
      "time_t-2022-08-18 17:54:37.758534\n",
      "num_t-6\n",
      "time_t-2022-08-18 17:54:38.759326\n",
      "num_t-7\n",
      "time_t-2022-08-18 17:54:39.759615\n",
      "num_t-8\n",
      "time_t-2022-08-18 17:54:40.760443\n",
      "num_t-9\n",
      "time_t-2022-08-18 17:54:41.761105\n",
      "num_t-10\n",
      "time_t-2022-08-18 17:54:42.761438\n"
     ]
    }
   ],
   "source": [
    "import threading\n",
    "t1=threading.Thread(target=number,args=('num_t',))#가상의 cpu가 실행할 타겟이 누구?, 그 함수에 들어갈 \n",
    "#argument는 무엇?\n",
    "\n",
    "t2=threading.Thread(target=timer,args=('time_t',))\n",
    "\n",
    "\n",
    "t1.start()#start 한다는 것은 cpu에게 전원공급!\n",
    "t2.start()\n"
   ]
  },
  {
   "cell_type": "code",
   "execution_count": null,
   "id": "b4b8589c-d5ec-42ed-8f70-dca62061d2f8",
   "metadata": {},
   "outputs": [],
   "source": []
  }
 ],
 "metadata": {
  "kernelspec": {
   "display_name": "Python 3 (ipykernel)",
   "language": "python",
   "name": "python3"
  },
  "language_info": {
   "codemirror_mode": {
    "name": "ipython",
    "version": 3
   },
   "file_extension": ".py",
   "mimetype": "text/x-python",
   "name": "python",
   "nbconvert_exporter": "python",
   "pygments_lexer": "ipython3",
   "version": "3.9.12"
  },
  "toc-autonumbering": true,
  "toc-showcode": false
 },
 "nbformat": 4,
 "nbformat_minor": 5
}
